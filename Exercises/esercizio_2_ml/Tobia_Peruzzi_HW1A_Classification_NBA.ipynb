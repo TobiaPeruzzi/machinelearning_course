{
 "cells": [
  {
   "cell_type": "markdown",
   "metadata": {},
   "source": [
    "# Classification of NBA players role\n",
    "\n",
    "## IMPORTANT: make sure to rerun all the code from the beginning to obtain the results for the final version of your notebook, since this is the way we will do it before evaluting your notebook! Only the notebook file will be submitted, do not change the data filenames, file content or paths we'll use the provided ones."
   ]
  },
  {
   "cell_type": "markdown",
   "metadata": {},
   "source": [
    "Student name: <br>\n",
    "ID Number:"
   ]
  },
  {
   "cell_type": "markdown",
   "metadata": {},
   "source": [
    "### Dataset description\n",
    "\n",
    "We will be working with a dataset of NBA basketball players data (you can get from https://www.kaggle.com/jacobbaruch/nba-player-of-the-week the full dataset).\n",
    "\n",
    "The provided data is a subset of the full dataset containing the players that have the role of Center and of Point Guard. For each player the dataset contains the height, weight and age.\n",
    "\n",
    "From Wikipedia:\n",
    "\n",
    "The **Center** (C), also known as the five, or the big man, is one of the five positions in a regular basketball game. The center is normally the tallest player on the team, and often has a great deal of strength and body mass as well. In the NBA, the center is usually 6' 10\" (2.08 m) or taller and usually weighs 240 lbs (109 kg) or more. \n",
    "\n",
    "**Point Guards** (PG, a.k.a. as \"play maker\") are expected to run the team's offense by controlling the ball and making sure that it gets to the right players at the right time. In the NBA, point guards are usually about 6' 3\" (1.93 m) or shorter, and average about 6' 2\" (1.88 m). Having above-average size (height, muscle) is considered advantageous, although size is secondary to situational awareness, speed, quickness, and ball handling skills. Shorter players tend to be better dribblers since they are closer to the floor, and thus have better control of the ball while dribbling. \n",
    "\n",
    "\n",
    "As it is clear from the description, the height and weight of the player are good hints to predict their role and in this lab we will exploit this features to estimate the role.\n",
    "\n",
    "\n",
    "### Three features (regressors) are considered for this dataset:\n",
    "\n",
    "\n",
    "1) Height in cm\n",
    "\n",
    "2) Weight in kg\n",
    "\n",
    "3) Age in years"
   ]
  },
  {
   "cell_type": "markdown",
   "metadata": {},
   "source": [
    "We first import all the packages that are needed."
   ]
  },
  {
   "cell_type": "code",
   "execution_count": 1,
   "metadata": {},
   "outputs": [],
   "source": [
    "%matplotlib inline\n",
    "import matplotlib.pyplot as plt\n",
    "import csv\n",
    "\n",
    "import numpy as np\n",
    "import scipy as sp\n",
    "import sklearn as sl\n",
    "from scipy import stats\n",
    "from sklearn import datasets\n",
    "from sklearn import linear_model"
   ]
  },
  {
   "cell_type": "markdown",
   "metadata": {},
   "source": [
    "# Perceptron\n",
    "We will implement the perceptron algorithm and use it to learn a halfspace."
   ]
  },
  {
   "cell_type": "markdown",
   "metadata": {},
   "source": [
    "**TO DO** Set the random seed (you can use your ID (matricola) or any other number!)."
   ]
  },
  {
   "cell_type": "code",
   "execution_count": 2,
   "metadata": {},
   "outputs": [],
   "source": [
    "IDnumber = 1077515\n",
    "np.random.seed(IDnumber)"
   ]
  },
  {
   "cell_type": "markdown",
   "metadata": {},
   "source": [
    "Load the dataset and then split in training set and test set (the training set is typically larger, you can use a 75% tranining 25% test split) after applying a random permutation to the datset."
   ]
  },
  {
   "cell_type": "markdown",
   "metadata": {},
   "source": [
    "A) Load dataset and perform permutation"
   ]
  },
  {
   "cell_type": "code",
   "execution_count": 3,
   "metadata": {},
   "outputs": [
    {
     "name": "stdout",
     "output_type": "stream",
     "text": [
      "['Position', 'Height cm', 'kg', 'Age']\n"
     ]
    }
   ],
   "source": [
    "#load the dataset\n",
    "filename = 'data/NBA.csv' # do not change the file name or content\n",
    "NBA = csv.reader(open(filename, newline=''), delimiter=',')\n",
    "\n",
    "header = next(NBA) #skip first line\n",
    "print(header)\n",
    "\n",
    "dataset = list(NBA)\n",
    "for i in range(len(dataset)):\n",
    "    dataset[i] = [int(x) for x in dataset[i]]\n",
    "    \n",
    "dataset = np.asarray(dataset)\n",
    "\n",
    "X = dataset[:,1:4] #columns 1,2,3 contain the features\n",
    "Y = dataset[:,0]  # column 0: labels\n",
    "\n",
    "Y = Y*2-1  # set labels to -1, 1 as required by perceptron implementation\n",
    "\n",
    "m = dataset.shape[0]\n",
    "permutation = np.random.permutation(m) # random permurtation\n",
    "\n",
    "X = X[permutation]\n",
    "Y = Y[permutation]"
   ]
  },
  {
   "cell_type": "markdown",
   "metadata": {},
   "source": [
    "We are going to classify class \"1\" (Center) vs class \"-1\" (Point Guard)"
   ]
  },
  {
   "cell_type": "markdown",
   "metadata": {},
   "source": [
    "B) **TO DO** Divide the data into training set and test set (3/4 of the data in the first set, 1/4 in the second one)"
   ]
  },
  {
   "cell_type": "code",
   "execution_count": 4,
   "metadata": {},
   "outputs": [
    {
     "name": "stdout",
     "output_type": "stream",
     "text": [
      "Done\n",
      "[ 1  1  1 -1  1  1 -1 -1 -1 -1 -1 -1  1  1 -1  1  1  1  1  1  1 -1  1  1\n",
      " -1  1  1 -1  1 -1 -1  1 -1  1 -1  1 -1  1 -1 -1 -1  1 -1 -1  1  1  1  1\n",
      "  1  1 -1  1  1 -1  1 -1  1  1 -1  1  1  1 -1  1  1  1  1 -1  1 -1  1 -1\n",
      "  1  1 -1  1 -1 -1 -1 -1 -1 -1  1  1 -1 -1  1  1 -1  1  1  1  1 -1 -1 -1\n",
      "  1 -1  1  1  1 -1 -1 -1 -1  1 -1 -1 -1  1  1 -1  1 -1 -1 -1  1 -1  1  1\n",
      "  1  1  1 -1  1  1 -1  1 -1  1  1 -1  1  1  1  1 -1  1 -1  1  1  1  1  1\n",
      " -1 -1  1  1 -1 -1  1 -1  1  1 -1 -1  1 -1  1 -1 -1 -1  1  1  1 -1  1  1\n",
      "  1  1 -1  1 -1  1 -1  1 -1  1  1  1  1  1  1 -1  1  1  1  1 -1 -1 -1 -1\n",
      " -1  1  1]\n",
      "65\n",
      "Shape of training set: (195, 3)\n",
      "Shape of test set: (65, 3)\n"
     ]
    }
   ],
   "source": [
    "#Divide in training and test: make sure that your training set\n",
    "#contains at least 10 elements from class 1 and at least 10 elements\n",
    "#from class -1! If it does not, modify the code so to apply more random\n",
    "#permutations (or the same permutation multiple times) until this happens.\n",
    "#IMPORTANT: do not change the random seed.\n",
    "\n",
    "#m_training needs to be the number of samples in the training set\n",
    "m_training = np.int(3*m/4)\n",
    "\n",
    "#m_test needs to be the number of samples in the test set\n",
    "m_test = np.int(m/4)\n",
    "\n",
    "#X_training = instances for training set\n",
    "X_training = X[:m_training, :]\n",
    "#Y_training = labels for the training set\n",
    "Y_training = Y[:m_training]\n",
    "\n",
    "Y_ones = np.count_nonzero(Y_training > 0) #1 in Y_training\n",
    "Y_minusones = np.count_nonzero(Y_training <= 0)  #-1 in Y_training\n",
    "while Y_ones <= 10 or Y_minusones <= 10:  \n",
    "    rand_perm = np.random.permutation(m)\n",
    "    X = X[rand_perm]\n",
    "    Y = Y[rand_perm]\n",
    "    X_training = X[:m_training,:] \n",
    "    Y_training = Y[:m_training]\n",
    "    Y_ones = np.count_nonzero(Y_training == 1)\n",
    "    Y_minusones = np.count_nonzero(Y_training != 1)\n",
    "else:\n",
    "    print(\"Done\")\n",
    "\n",
    "#X_test = instances for test set\n",
    "X_test =  X[m_training:,:]\n",
    "#Y_test = labels for the test set\n",
    "Y_test = Y[m_training:]\n",
    "\n",
    "print(Y_training) #to make sure that Y_training contains both 1 and -1\n",
    "print(m_test)\n",
    "\n",
    "print(\"Shape of training set: \" + str(X_training.shape))\n",
    "print(\"Shape of test set: \" + str(X_test.shape))"
   ]
  },
  {
   "cell_type": "markdown",
   "metadata": {},
   "source": [
    "**TO DO** Now add a 1 in front of each sample so that we can use a vector in homogeneous coordinates to describe all the coefficients of the model. You can use the function $hstack$ in $numpy$"
   ]
  },
  {
   "cell_type": "code",
   "execution_count": 5,
   "metadata": {},
   "outputs": [],
   "source": [
    "#add a 1 to each sample (homogeneous coordinates)\n",
    "\n",
    "ones_training = np.ones((m_training, 1))\n",
    "ones_test=np.ones((m_test,1))\n",
    "X_training_hom = np.hstack((ones_training, X_training))\n",
    "X_test_hom = np.hstack((ones_test, X_test))"
   ]
  },
  {
   "cell_type": "markdown",
   "metadata": {},
   "source": [
    "**TO DO** Now complete the function *perceptron*. Since the perceptron does not terminate if the data is not linearly separable, your implementation should return the desired output (see below) if it reached the termination condition seen in class or if a maximum number of iterations have already been run, where one iteration corresponds to one update of the perceptron weights. In case the termination is reached because the maximum number of iterations have been completed, the implementation should return **the best model** seen up to now.\n",
    "\n",
    "The input parameters to pass are:\n",
    "- $X$: the matrix of input features, one row for each sample\n",
    "- $Y$: the vector of labels for the input features matrix X\n",
    "- $max\\_num\\_iterations$: the maximum number of iterations for running the perceptron\n",
    "\n",
    "The output values are:\n",
    "- $best\\_w$: the vector with the coefficients of the best model\n",
    "- $best\\_error$: the *fraction* of missclassified samples for the best model"
   ]
  },
  {
   "cell_type": "code",
   "execution_count": 6,
   "metadata": {},
   "outputs": [],
   "source": [
    "def perceptron(X, Y, max_num_iterations):\n",
    "    k = 0\n",
    "    w = np.zeros(X.shape[1]) \n",
    "    best_w = np.zeros(X.shape[1])\n",
    "    best_error = X.shape[0]\n",
    "    while k <= max_num_iterations and best_error != 0:\n",
    "        k += 1\n",
    "        perm = np.random.permutation(X.shape[0])\n",
    "        A = X[perm] \n",
    "        B = Y[perm]\n",
    "        i = np.where(B*(A@w) <= 0)[0][0]\n",
    "        w = w + B[i]*A[i,:]\n",
    "        prediction = A @ w\n",
    "        error = np.count_nonzero(B*prediction <= 0)   \n",
    "        if error <= best_error:\n",
    "            best_w = w\n",
    "            best_error = error\n",
    "        else:\n",
    "            pass            \n",
    "    \n",
    "    return best_w, best_error"
   ]
  },
  {
   "cell_type": "markdown",
   "metadata": {},
   "source": [
    "Now we use the implementation above of the perceptron to learn a model from the training data using 100 iterations and print the error of the best model we have found."
   ]
  },
  {
   "cell_type": "code",
   "execution_count": 7,
   "metadata": {},
   "outputs": [
    {
     "name": "stdout",
     "output_type": "stream",
     "text": [
      "Training Error of perpceptron (100 iterations): 0.08205128205128205\n"
     ]
    }
   ],
   "source": [
    "#now run the perceptron for 100 iterations\n",
    "w_found, error = perceptron(X_training_hom,Y_training, 100)\n",
    "print(\"Training Error of perpceptron (100 iterations): \" + str(error/m_training))"
   ]
  },
  {
   "cell_type": "markdown",
   "metadata": {},
   "source": [
    "**TO DO** use the best model $w\\_found$ to predict the labels for the test dataset and print the fraction of missclassified samples in the test set (the test error that is an estimate of the true loss)."
   ]
  },
  {
   "cell_type": "code",
   "execution_count": 8,
   "metadata": {},
   "outputs": [
    {
     "name": "stdout",
     "output_type": "stream",
     "text": [
      "Test Error of perpceptron (100 iterations): 0.06153846153846154\n"
     ]
    }
   ],
   "source": [
    "#now use the w_found to make predictions on test dataset\n",
    "\n",
    "num_errors = np.count_nonzero(Y_test * (X_test_hom @ w_found) <= 0)\n",
    "\n",
    "true_loss_estimate = num_errors/m_test  # error rate on the test set\n",
    "#NOTE: you can avoid using num_errors if you prefer, as long as true_loss_estimate is correct\n",
    "print(\"Test Error of perpceptron (100 iterations): \" + str(true_loss_estimate))"
   ]
  },
  {
   "cell_type": "markdown",
   "metadata": {},
   "source": [
    "**TO DO** **[Answer the following]** What about the difference betweeen the training error and the test error  in terms of fraction of missclassified samples)? Explain what you observe. [Write the answer in this cell]\n",
    "\n",
    "I expect to see a training error smaller than the test error. But I noticed that with some initial seeds it happens the opposite. "
   ]
  },
  {
   "cell_type": "markdown",
   "metadata": {},
   "source": [
    "**TO DO** Copy the code from the last 2 cells above in the cell below and repeat the training with 5000 iterations. Then print the error in the training set and the estimate of the true loss obtained from the test set."
   ]
  },
  {
   "cell_type": "code",
   "execution_count": 9,
   "metadata": {
    "scrolled": true
   },
   "outputs": [
    {
     "name": "stdout",
     "output_type": "stream",
     "text": [
      "Training Error of perpceptron (5000 iterations): 0.08205128205128205\n",
      "Test Error of perpceptron (5000 iterations): 0.07692307692307693\n"
     ]
    }
   ],
   "source": [
    "#now run the perceptron for 5000 iterations here!\n",
    "\n",
    "w_found, error = perceptron(X_training_hom,Y_training, 5000)\n",
    "print(\"Training Error of perpceptron (5000 iterations): \" + str(error/m_training))\n",
    "\n",
    "num_errors = np.count_nonzero(Y_test * (X_test_hom @ w_found) <= 0)\n",
    "\n",
    "true_loss_estimate = num_errors/m_test  # error rate on the test set\n",
    "#NOTE: you can avoid using num_errors if you prefer, as long as true_loss_estimate is correct\n",
    "print(\"Test Error of perpceptron (5000 iterations): \" + str(true_loss_estimate))"
   ]
  },
  {
   "cell_type": "markdown",
   "metadata": {},
   "source": [
    "**TO DO** [Answer the following] What about the difference betweeen the training error and the test error  in terms of fraction of missclassified samples) when running for a larger number of iterations ? Explain what you observe and compare with the previous case. [Write the answer in this cell]\n",
    "\n",
    "I noticed that the test error is the same, but the training error is lower for a larger number of iterations. Maybe this is due to some error fluctuations."
   ]
  },
  {
   "cell_type": "markdown",
   "metadata": {},
   "source": [
    "# Logistic Regression\n",
    "Now we use logistic regression, as implemented in Scikit-learn, to predict labels. We will also plot the decision region of logistic regression.\n",
    "\n",
    "We first load the dataset again."
   ]
  },
  {
   "cell_type": "code",
   "execution_count": 10,
   "metadata": {},
   "outputs": [
    {
     "name": "stdout",
     "output_type": "stream",
     "text": [
      "['Position', 'Height cm', 'kg', 'Age']\n"
     ]
    }
   ],
   "source": [
    "filename = 'data/NBA.csv'\n",
    "NBA = csv.reader(open(filename, newline=''), delimiter=',')\n",
    "\n",
    "header = next(NBA)\n",
    "print(header)\n",
    "\n",
    "dataset = list(NBA)\n",
    "for i in range(len(dataset)):\n",
    "    dataset[i] = [int(x) for x in dataset[i]]\n",
    "    \n",
    "dataset = np.asarray(dataset)\n",
    "\n",
    "X = dataset[:,1:]\n",
    "Y = dataset[:,0]\n",
    "\n",
    "Y = Y*2-1  # set labels to {-1, 1} as required by perceptron implementation\n",
    "\n",
    "m = dataset.shape[0]\n",
    "permutation = np.random.permutation(m)\n",
    "\n",
    "X = X[permutation]\n",
    "Y = Y[permutation]"
   ]
  },
  {
   "cell_type": "markdown",
   "metadata": {},
   "source": [
    "**TO DO** As for the previous part, divide the data into training and test (75%-25%) and add a 1 as first component to each sample."
   ]
  },
  {
   "cell_type": "code",
   "execution_count": 11,
   "metadata": {},
   "outputs": [
    {
     "name": "stdout",
     "output_type": "stream",
     "text": [
      "Done\n"
     ]
    }
   ],
   "source": [
    "#Divide in training and test: make sure that your training set\n",
    "#contains at least 10 elements from class 1 and at least 10 elements\n",
    "#from class -1! If it does not, modify the code so to apply more random\n",
    "#permutations (or the same permutation multiple times) until this happens.\n",
    "#IMPORTANT: do not change the random seed.\n",
    "\n",
    "\n",
    "m_training = np.int(3*m/4)\n",
    "m_test = np.int(m/4)\n",
    "\n",
    "X_training = X[:m_training, :]\n",
    "Y_training = Y[:m_training]\n",
    "\n",
    "Y_ones = np.count_nonzero(Y_training > 0) #1 in Y_training\n",
    "Y_minusones = np.count_nonzero(Y_training <= 0)  #-1 in Y_training\n",
    "while Y_ones <= 10 or Y_minusones <= 10:  \n",
    "    rand_perm = np.random.permutation(m)\n",
    "    X = X[rand_perm]\n",
    "    Y = Y[rand_perm]\n",
    "    X_training = X[:m_training,:] \n",
    "    Y_training = Y[:m_training]\n",
    "    Y_ones = np.count_nonzero(Y_training == 1)\n",
    "    Y_minusones = np.count_nonzero(Y_training != 1)\n",
    "else:\n",
    "    print(\"Done\")\n",
    "\n",
    "\n",
    "X_test =  X[m_training:,:]\n",
    "Y_test = Y[m_training:]\n"
   ]
  },
  {
   "cell_type": "markdown",
   "metadata": {},
   "source": [
    "To define a logistic regression model in Scikit-learn use the instruction\n",
    "\n",
    "$linear\\_model.LogisticRegression(C=1e5)$\n",
    "\n",
    "($C$ is a parameter related to *regularization*, a technique that\n",
    "we will see later in the course. Setting it to a high value is almost\n",
    "as ignoring regularization, so the instruction above corresponds to the\n",
    "logistic regression you have seen in class.)\n",
    "\n",
    "To learn the model you need to use the $fit(...)$ instruction and to predict you need to use the $predict(...)$ function. See the Scikit-learn documentation for how to use it.\n",
    "\n",
    "**TO DO** Define the logistic regression model, then learn the model using the training set and predict on the test set. Then print the fraction of samples missclassified in the training set and in the test set."
   ]
  },
  {
   "cell_type": "code",
   "execution_count": 12,
   "metadata": {},
   "outputs": [
    {
     "name": "stdout",
     "output_type": "stream",
     "text": [
      "Error rate on training set: 0.06666666666666667\n",
      "Error rate on test set: 0.07692307692307693\n"
     ]
    }
   ],
   "source": [
    "#part on logistic regression for 2 classes\n",
    "logreg = linear_model.LogisticRegression(C=1e5, solver='liblinear') #specified a solver to remove a warning\n",
    "\n",
    "#learn from training set\n",
    "\n",
    "logreg.fit(X_training, Y_training)\n",
    "\n",
    "\n",
    "#predict on training set\n",
    "\n",
    "Y_training_prediction = logreg.predict(X_training)\n",
    "\n",
    "\n",
    "#print the error rate = fraction of missclassified samples\n",
    "error_rate_training = np.count_nonzero(Y_training - Y_training_prediction !=0)\n",
    "\n",
    "print(\"Error rate on training set: \"+str(error_rate_training/m_training))\n",
    "\n",
    "#predict on test set\n",
    "\n",
    "Y_test_prediction = logreg.predict(X_test)\n",
    "\n",
    "#print the error rate = fraction of missclassified samples\n",
    "error_rate_test = 0 \n",
    "\n",
    "error_rate_test = np.count_nonzero(Y_test - Y_test_prediction !=0)\n",
    "\n",
    "print(\"Error rate on test set: \" + str(error_rate_test/m_test))"
   ]
  },
  {
   "cell_type": "markdown",
   "metadata": {},
   "source": [
    "**TO DO** Now pick two features and restrict the dataset to include only two features, whose indices are specified in the $feature$ vector below. Then split into training and test. Which features are you going to select ?"
   ]
  },
  {
   "cell_type": "code",
   "execution_count": 17,
   "metadata": {},
   "outputs": [],
   "source": [
    "#to make the plot we need to reduce the data to 2D, so we choose two features\n",
    "features_list = ['height', 'weight', 'age']\n",
    "labels_list = ['Center', 'Point guard']\n",
    "\n",
    "index_feature1 = 1\n",
    "index_feature2 = 2\n",
    "features = [index_feature1, index_feature2]\n",
    "\n",
    "feature_name0 = features_list[features[0]]\n",
    "feature_name1 = features_list[features[1]]\n",
    "\n",
    "X_reduced = X[:,features]\n",
    "\n",
    "X_training = X_reduced[:m_training,:]\n",
    "Y_training = Y[:m_training]\n",
    "\n",
    "X_test = X_reduced[m_training:,:]\n",
    "Y_test = Y[m_training:]"
   ]
  },
  {
   "cell_type": "markdown",
   "metadata": {},
   "source": [
    "Now learn a model using the training data and measure the performances."
   ]
  },
  {
   "cell_type": "code",
   "execution_count": 18,
   "metadata": {},
   "outputs": [
    {
     "name": "stdout",
     "output_type": "stream",
     "text": [
      "Features chosen: weight and age \n",
      "\n",
      "Error rate on training set: 0.06153846153846154\n",
      "Error rate on test set: 0.09230769230769231\n"
     ]
    }
   ],
   "source": [
    "# learning from training data\n",
    "\n",
    "print(\"Features chosen: weight and age \\n\")\n",
    "\n",
    "#learn from training set\n",
    "\n",
    "logreg.fit(X_training, Y_training)\n",
    "\n",
    "#predict on training set\n",
    "\n",
    "Y_training_prediction = logreg.predict(X_training)\n",
    "\n",
    "\n",
    "#print the error rate = fraction of missclassified samples\n",
    "error_rate_training = np.count_nonzero(Y_training - Y_training_prediction !=0)\n",
    "\n",
    "print(\"Error rate on training set: \"+str(error_rate_training/m_training))\n",
    "\n",
    "#predict on test set\n",
    "\n",
    "Y_test_prediction = logreg.predict(X_test)\n",
    "\n",
    "#print the error rate = fraction of missclassified samples\n",
    "error_rate_test = 0 \n",
    "\n",
    "error_rate_test = np.count_nonzero(Y_test - Y_test_prediction !=0)\n",
    "\n",
    "print(\"Error rate on test set: \" + str(error_rate_test/m_test))"
   ]
  },
  {
   "cell_type": "code",
   "execution_count": 19,
   "metadata": {},
   "outputs": [],
   "source": [
    "#to make the plot we need to reduce the data to 2D, so we choose two features\n",
    "features_list = ['height', 'weight', 'age']\n",
    "labels_list = ['Center', 'Point guard']\n",
    "\n",
    "index_feature1 = 0\n",
    "index_feature2 = 2\n",
    "features = [index_feature1, index_feature2]\n",
    "\n",
    "feature_name0 = features_list[features[0]]\n",
    "feature_name1 = features_list[features[1]]\n",
    "\n",
    "X_reduced = X[:,features]\n",
    "\n",
    "X_training = X_reduced[:m_training,:]\n",
    "Y_training = Y[:m_training]\n",
    "\n",
    "X_test = X_reduced[m_training:,:]\n",
    "Y_test = Y[m_training:]"
   ]
  },
  {
   "cell_type": "code",
   "execution_count": 20,
   "metadata": {},
   "outputs": [
    {
     "name": "stdout",
     "output_type": "stream",
     "text": [
      "Features chosen: height and age \n",
      "\n",
      "Error rate on training set: 0.28205128205128205\n",
      "Error rate on test set: 0.26153846153846155\n"
     ]
    }
   ],
   "source": [
    "# learning from training data\n",
    "\n",
    "#learn from training set\n",
    "\n",
    "print(\"Features chosen: height and age \\n\")\n",
    "\n",
    "logreg.fit(X_training, Y_training)\n",
    "\n",
    "#predict on training set\n",
    "\n",
    "Y_training_prediction = logreg.predict(X_training)\n",
    "\n",
    "\n",
    "#print the error rate = fraction of missclassified samples\n",
    "error_rate_training = np.count_nonzero(Y_training - Y_training_prediction !=0)\n",
    "\n",
    "print(\"Error rate on training set: \"+str(error_rate_training/m_training))\n",
    "\n",
    "#predict on test set\n",
    "\n",
    "Y_test_prediction = logreg.predict(X_test)\n",
    "\n",
    "#print the error rate = fraction of missclassified samples\n",
    "error_rate_test = 0 \n",
    "\n",
    "error_rate_test = np.count_nonzero(Y_test - Y_test_prediction !=0)\n",
    "\n",
    "print(\"Error rate on test set: \" + str(error_rate_test/m_test))"
   ]
  },
  {
   "cell_type": "code",
   "execution_count": 21,
   "metadata": {},
   "outputs": [],
   "source": [
    "#to make the plot we need to reduce the data to 2D, so we choose two features\n",
    "features_list = ['height', 'weight', 'age']\n",
    "labels_list = ['Center', 'Point guard']\n",
    "\n",
    "index_feature1 = 0\n",
    "index_feature2 = 1\n",
    "features = [index_feature1, index_feature2]\n",
    "\n",
    "feature_name0 = features_list[features[0]]\n",
    "feature_name1 = features_list[features[1]]\n",
    "\n",
    "X_reduced = X[:,features]\n",
    "\n",
    "X_training = X_reduced[:m_training,:]\n",
    "Y_training = Y[:m_training]\n",
    "\n",
    "X_test = X_reduced[m_training:,:]\n",
    "Y_test = Y[m_training:]"
   ]
  },
  {
   "cell_type": "code",
   "execution_count": 22,
   "metadata": {},
   "outputs": [
    {
     "name": "stdout",
     "output_type": "stream",
     "text": [
      "Features chosen: height and weight \n",
      "\n",
      "Error rate on training set: 0.06666666666666667\n",
      "Error rate on test set: 0.07692307692307693\n"
     ]
    }
   ],
   "source": [
    "# learning from training data\n",
    "\n",
    "#learn from training set\n",
    "\n",
    "print(\"Features chosen: height and weight \\n\")\n",
    "\n",
    "logreg.fit(X_training, Y_training)\n",
    "\n",
    "#predict on training set\n",
    "\n",
    "Y_training_prediction = logreg.predict(X_training)\n",
    "\n",
    "\n",
    "#print the error rate = fraction of missclassified samples\n",
    "error_rate_training = np.count_nonzero(Y_training - Y_training_prediction !=0)\n",
    "\n",
    "print(\"Error rate on training set: \"+str(error_rate_training/m_training))\n",
    "\n",
    "#predict on test set\n",
    "\n",
    "Y_test_prediction = logreg.predict(X_test)\n",
    "\n",
    "#print the error rate = fraction of missclassified samples\n",
    "error_rate_test = 0 \n",
    "\n",
    "error_rate_test = np.count_nonzero(Y_test - Y_test_prediction !=0)\n",
    "\n",
    "print(\"Error rate on test set: \" + str(error_rate_test/m_test))"
   ]
  },
  {
   "cell_type": "markdown",
   "metadata": {},
   "source": [
    "**TO DO** [Answer the following] Which features did you select and why ? Compare the perfromances with the ones of the case with all the 3 features and comment about the results. [Write the answer in this cell]\n",
    "\n",
    "I printed all the three possible combinations of features. As can be seen by the results printed above, the lower error on the training set is related to the choice of height and weight as features. The lower error on the test set is related to the choice of weight and age and also for the choice height and weight. Therefore the best choice of features seems to be the height and weight combination, as I would expect from the description of the two classes given at the beginning.\n",
    "Note: for the feature pair height and age, the training error is higher than the test error and this is strange. I don't know if it is due to instability in the dataset or to errors in the code."
   ]
  },
  {
   "cell_type": "markdown",
   "metadata": {},
   "source": [
    "If everything is ok, the code below uses the model in $logreg$ to plot the decision region for the two features chosen above, with colors denoting the predicted value. It also plots the points (with correct labels) in the training set. It makes a similar plot for the test set."
   ]
  },
  {
   "cell_type": "code",
   "execution_count": 23,
   "metadata": {},
   "outputs": [
    {
     "data": {
      "image/png": "[encoded data removed]",
      "text/plain": [
       "<Figure size 288x216 with 1 Axes>"
      ]
     },
     "metadata": {},
     "output_type": "display_data"
    },
    {
     "data": {
      "image/png": "[encoded data removed]",
      "text/plain": [
       "<Figure size 288x216 with 1 Axes>"
      ]
     },
     "metadata": {},
     "output_type": "display_data"
    }
   ],
   "source": [
    "# Plot the decision boundary. For that, we will assign a color to each\n",
    "# point in the mesh [x_min, x_max]x[y_min, y_max].\n",
    "\n",
    "# NOTICE: This visualization code has been developed for a \"standard\" solution of the notebook, \n",
    "# it could be necessary to make some fixes to adapt to your implementation\n",
    "\n",
    "h = .02  # step size in the mesh\n",
    "x_min, x_max = X_reduced[:, 0].min() - .5, X_reduced[:, 0].max() + .5\n",
    "y_min, y_max = X_reduced[:, 1].min() - .5, X_reduced[:, 1].max() + .5\n",
    "xx, yy = np.meshgrid(np.arange(x_min, x_max, h), np.arange(y_min, y_max, h))\n",
    "\n",
    "Z = logreg.predict(np.c_[xx.ravel(), yy.ravel()])\n",
    "\n",
    "# Put the result into a color plot\n",
    "Z = Z.reshape(xx.shape)\n",
    "\n",
    "plt.figure(1, figsize=(4, 3))\n",
    "plt.pcolormesh(xx, yy, Z, cmap=plt.cm.Paired)\n",
    "\n",
    "# Plot also the training points\n",
    "plt.scatter(X_training[:, 0], X_training[:, 1], c=Y_training, edgecolors='k', cmap=plt.cm.Paired)\n",
    "plt.xlabel(feature_name0)\n",
    "plt.ylabel(feature_name1)\n",
    "\n",
    "plt.xlim(xx.min(), xx.max())\n",
    "plt.ylim(yy.min(), yy.max())\n",
    "plt.xticks(())\n",
    "plt.yticks(())\n",
    "plt.title('Training set')\n",
    "\n",
    "plt.show()\n",
    "\n",
    "# Put the result into a color plot\n",
    "Z = Z.reshape(xx.shape)\n",
    "plt.figure(1, figsize=(4, 3))\n",
    "plt.pcolormesh(xx, yy, Z, cmap=plt.cm.Paired)\n",
    "\n",
    "# Plot also the test points \n",
    "plt.scatter(X_test[:, 0], X_test[:, 1], c=Y_test, edgecolors='k', cmap=plt.cm.Paired, marker='s')\n",
    "plt.xlabel(feature_name0)\n",
    "plt.ylabel(feature_name1)\n",
    "\n",
    "plt.xlim(xx.min(), xx.max())\n",
    "plt.ylim(yy.min(), yy.max())\n",
    "plt.xticks(())\n",
    "plt.yticks(())\n",
    "plt.title('Test set')\n",
    "\n",
    "plt.show()"
   ]
  },
  {
   "cell_type": "code",
   "execution_count": null,
   "metadata": {},
   "outputs": [],
   "source": []
  }
 ],
 "metadata": {
  "anaconda-cloud": {},
  "kernelspec": {
   "display_name": "Python 3",
   "language": "python",
   "name": "python3"
  },
  "language_info": {
   "codemirror_mode": {
    "name": "ipython",
    "version": 3
   },
   "file_extension": ".py",
   "mimetype": "text/x-python",
   "name": "python",
   "nbconvert_exporter": "python",
   "pygments_lexer": "ipython3",
   "version": "3.7.3"
  }
 },
 "nbformat": 4,
 "nbformat_minor": 2
}
