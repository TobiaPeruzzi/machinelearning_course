{
 "cells": [
  {
   "cell_type": "markdown",
   "metadata": {},
   "source": [
    "# Regularized Classification on Student Alcohol Dataset\n",
    "\n",
    "We are going to use a dataset from Kaggle (https://www.kaggle.com/uciml/student-alcohol-consumption)\n",
    " \n",
    "### Dataset description\n",
    "\n",
    ">The data were obtained in a survey of students from the portuguese language courses in a secondary school. It contains a lot of interesting social, gender and study information about students.\n",
    "\n",
    "> Have a look at the information about the dataset at the webpage: https://www.kaggle.com/uciml/student-alcohol-consumption\n",
    "\n",
    ">In this context, we ask you to estimate which students are the most prone to alcohol consumption given some social and educational information. "
   ]
  },
  {
   "cell_type": "markdown",
   "metadata": {},
   "source": [
    "# TO DO: put your Surname, Name and ID number (\"numero di matricola\")\n",
    "\n",
    "\n",
    "Student Name: Tobia Peruzzi\n",
    "\n",
    "ID Number: 1185463\n"
   ]
  },
  {
   "cell_type": "code",
   "execution_count": 1,
   "metadata": {},
   "outputs": [],
   "source": [
    "import numpy as np\n",
    "\n",
    "# The seed will be used as seed for splitting the data into training and test. \n",
    "# You can place your ID or also try different seeds to see the impact of the random subdvision of the train and test sets\n",
    "# and of the random components in the algorithm on the results\n",
    "IDnumber = 1185463\n",
    "np.random.seed(IDnumber)"
   ]
  },
  {
   "cell_type": "code",
   "execution_count": 2,
   "metadata": {},
   "outputs": [],
   "source": [
    "# let's load library for plotting\n",
    "%matplotlib inline  \n",
    "import matplotlib.pyplot as plt"
   ]
  },
  {
   "cell_type": "markdown",
   "metadata": {},
   "source": [
    "## Data Preprocessing\n",
    "\n",
    "Load the data from a .csv file. In this notebook we use the pandas (Python Data Analysis Library) package, since it provides useful functions to clean the data. In particular, it allows us to remove samples with missing data, as we do below. We also plot some descriptions of columns, check the pandas documentation for 'describe()' if you want to know more."
   ]
  },
  {
   "cell_type": "code",
   "execution_count": 49,
   "metadata": {},
   "outputs": [
    {
     "data": {
      "text/html": [
       "<div>\n",
       "<style scoped>\n",
       "    .dataframe tbody tr th:only-of-type {\n",
       "        vertical-align: middle;\n",
       "    }\n",
       "\n",
       "    .dataframe tbody tr th {\n",
       "        vertical-align: top;\n",
       "    }\n",
       "\n",
       "    .dataframe thead th {\n",
       "        text-align: right;\n",
       "    }\n",
       "</style>\n",
       "<table border=\"1\" class=\"dataframe\">\n",
       "  <thead>\n",
       "    <tr style=\"text-align: right;\">\n",
       "      <th></th>\n",
       "      <th>drink_alcohol</th>\n",
       "      <th>age</th>\n",
       "      <th>Medu</th>\n",
       "      <th>Fedu</th>\n",
       "      <th>traveltime</th>\n",
       "      <th>studytime</th>\n",
       "      <th>famrel</th>\n",
       "      <th>freetime</th>\n",
       "      <th>goout</th>\n",
       "      <th>health</th>\n",
       "      <th>absences</th>\n",
       "      <th>Marks</th>\n",
       "    </tr>\n",
       "  </thead>\n",
       "  <tbody>\n",
       "    <tr>\n",
       "      <th>count</th>\n",
       "      <td>649.000000</td>\n",
       "      <td>649.000000</td>\n",
       "      <td>649.000000</td>\n",
       "      <td>649.000000</td>\n",
       "      <td>649.000000</td>\n",
       "      <td>649.000000</td>\n",
       "      <td>649.000000</td>\n",
       "      <td>649.000000</td>\n",
       "      <td>649.000000</td>\n",
       "      <td>649.000000</td>\n",
       "      <td>649.000000</td>\n",
       "      <td>649.000000</td>\n",
       "    </tr>\n",
       "    <tr>\n",
       "      <th>mean</th>\n",
       "      <td>0.454545</td>\n",
       "      <td>16.744222</td>\n",
       "      <td>2.514638</td>\n",
       "      <td>2.306626</td>\n",
       "      <td>1.568567</td>\n",
       "      <td>1.930663</td>\n",
       "      <td>3.930663</td>\n",
       "      <td>3.180277</td>\n",
       "      <td>3.184900</td>\n",
       "      <td>3.536210</td>\n",
       "      <td>3.659476</td>\n",
       "      <td>11.906009</td>\n",
       "    </tr>\n",
       "    <tr>\n",
       "      <th>std</th>\n",
       "      <td>0.498314</td>\n",
       "      <td>1.218138</td>\n",
       "      <td>1.134552</td>\n",
       "      <td>1.099931</td>\n",
       "      <td>0.748660</td>\n",
       "      <td>0.829510</td>\n",
       "      <td>0.955717</td>\n",
       "      <td>1.051093</td>\n",
       "      <td>1.175766</td>\n",
       "      <td>1.446259</td>\n",
       "      <td>4.640759</td>\n",
       "      <td>3.230656</td>\n",
       "    </tr>\n",
       "    <tr>\n",
       "      <th>min</th>\n",
       "      <td>0.000000</td>\n",
       "      <td>15.000000</td>\n",
       "      <td>0.000000</td>\n",
       "      <td>0.000000</td>\n",
       "      <td>1.000000</td>\n",
       "      <td>1.000000</td>\n",
       "      <td>1.000000</td>\n",
       "      <td>1.000000</td>\n",
       "      <td>1.000000</td>\n",
       "      <td>1.000000</td>\n",
       "      <td>0.000000</td>\n",
       "      <td>0.000000</td>\n",
       "    </tr>\n",
       "    <tr>\n",
       "      <th>25%</th>\n",
       "      <td>0.000000</td>\n",
       "      <td>16.000000</td>\n",
       "      <td>2.000000</td>\n",
       "      <td>1.000000</td>\n",
       "      <td>1.000000</td>\n",
       "      <td>1.000000</td>\n",
       "      <td>4.000000</td>\n",
       "      <td>3.000000</td>\n",
       "      <td>2.000000</td>\n",
       "      <td>2.000000</td>\n",
       "      <td>0.000000</td>\n",
       "      <td>10.000000</td>\n",
       "    </tr>\n",
       "    <tr>\n",
       "      <th>50%</th>\n",
       "      <td>0.000000</td>\n",
       "      <td>17.000000</td>\n",
       "      <td>2.000000</td>\n",
       "      <td>2.000000</td>\n",
       "      <td>1.000000</td>\n",
       "      <td>2.000000</td>\n",
       "      <td>4.000000</td>\n",
       "      <td>3.000000</td>\n",
       "      <td>3.000000</td>\n",
       "      <td>4.000000</td>\n",
       "      <td>2.000000</td>\n",
       "      <td>12.000000</td>\n",
       "    </tr>\n",
       "    <tr>\n",
       "      <th>75%</th>\n",
       "      <td>1.000000</td>\n",
       "      <td>18.000000</td>\n",
       "      <td>4.000000</td>\n",
       "      <td>3.000000</td>\n",
       "      <td>2.000000</td>\n",
       "      <td>2.000000</td>\n",
       "      <td>5.000000</td>\n",
       "      <td>4.000000</td>\n",
       "      <td>4.000000</td>\n",
       "      <td>5.000000</td>\n",
       "      <td>6.000000</td>\n",
       "      <td>14.000000</td>\n",
       "    </tr>\n",
       "    <tr>\n",
       "      <th>max</th>\n",
       "      <td>1.000000</td>\n",
       "      <td>22.000000</td>\n",
       "      <td>4.000000</td>\n",
       "      <td>4.000000</td>\n",
       "      <td>4.000000</td>\n",
       "      <td>4.000000</td>\n",
       "      <td>5.000000</td>\n",
       "      <td>5.000000</td>\n",
       "      <td>5.000000</td>\n",
       "      <td>5.000000</td>\n",
       "      <td>32.000000</td>\n",
       "      <td>19.000000</td>\n",
       "    </tr>\n",
       "  </tbody>\n",
       "</table>\n",
       "</div>"
      ],
      "text/plain": [
       "       drink_alcohol         age        Medu        Fedu  traveltime  \\\n",
       "count     649.000000  649.000000  649.000000  649.000000  649.000000   \n",
       "mean        0.454545   16.744222    2.514638    2.306626    1.568567   \n",
       "std         0.498314    1.218138    1.134552    1.099931    0.748660   \n",
       "min         0.000000   15.000000    0.000000    0.000000    1.000000   \n",
       "25%         0.000000   16.000000    2.000000    1.000000    1.000000   \n",
       "50%         0.000000   17.000000    2.000000    2.000000    1.000000   \n",
       "75%         1.000000   18.000000    4.000000    3.000000    2.000000   \n",
       "max         1.000000   22.000000    4.000000    4.000000    4.000000   \n",
       "\n",
       "        studytime      famrel    freetime       goout      health    absences  \\\n",
       "count  649.000000  649.000000  649.000000  649.000000  649.000000  649.000000   \n",
       "mean     1.930663    3.930663    3.180277    3.184900    3.536210    3.659476   \n",
       "std      0.829510    0.955717    1.051093    1.175766    1.446259    4.640759   \n",
       "min      1.000000    1.000000    1.000000    1.000000    1.000000    0.000000   \n",
       "25%      1.000000    4.000000    3.000000    2.000000    2.000000    0.000000   \n",
       "50%      2.000000    4.000000    3.000000    3.000000    4.000000    2.000000   \n",
       "75%      2.000000    5.000000    4.000000    4.000000    5.000000    6.000000   \n",
       "max      4.000000    5.000000    5.000000    5.000000    5.000000   32.000000   \n",
       "\n",
       "            Marks  \n",
       "count  649.000000  \n",
       "mean    11.906009  \n",
       "std      3.230656  \n",
       "min      0.000000  \n",
       "25%     10.000000  \n",
       "50%     12.000000  \n",
       "75%     14.000000  \n",
       "max     19.000000  "
      ]
     },
     "execution_count": 49,
     "metadata": {},
     "output_type": "execute_result"
    }
   ],
   "source": [
    "# let's load pands and numpy\n",
    "import pandas as pd\n",
    "import numpy as np\n",
    "\n",
    "# this time we use pandas to load and clean the dataset\n",
    "\n",
    "# read the data from the csv file\n",
    "df = pd.read_csv(\"data/student-data.csv\", sep=',')\n",
    "\n",
    "# let's see some statistics about the data \n",
    "df.describe()"
   ]
  },
  {
   "cell_type": "markdown",
   "metadata": {
    "collapsed": true
   },
   "source": [
    "Now we create data matrices: many of the features are categorical, so we need to encode them with ***indicator matrices*** (i.e., using the so called one-hot encoding). That is, if a feature can take $\\ell$ different values $v_1,\\dots,v_{\\ell}$, we create $\\ell$ indicator (0-1) features $I_1,\\dots,I_{\\ell}$, such that $I_{j} = 1$ if and only if the value of the feature is $v_j$. This can be done in Python by first encode a feature with integers with LabelEncoder() and then obtain the indicator variables with OneHotEncoder()."
   ]
  },
  {
   "cell_type": "code",
   "execution_count": 50,
   "metadata": {},
   "outputs": [
    {
     "name": "stdout",
     "output_type": "stream",
     "text": [
      "['drink_alcohol', 'school', 'sex', 'age', 'address', 'famsize', 'Pstatus', 'Medu', 'Fedu', 'Mjob', 'Fjob', 'guardian', 'traveltime', 'studytime', 'famrel', 'freetime', 'goout', 'health', 'absences', 'Marks']\n",
      "Number of samples: 649\n",
      "Categorical feature: school    Number of categories: (2,)\n",
      "Categorical feature: sex    Number of categories: (2,)\n",
      "Valued feature: age\n",
      "Categorical feature: address    Number of categories: (2,)\n",
      "Categorical feature: famsize    Number of categories: (2,)\n",
      "Categorical feature: Pstatus    Number of categories: (2,)\n",
      "Categorical feature: Medu    Number of categories: (5,)\n",
      "Categorical feature: Fedu    Number of categories: (5,)\n",
      "Categorical feature: Mjob    Number of categories: (5,)\n",
      "Categorical feature: Fjob    Number of categories: (5,)\n",
      "Categorical feature: guardian    Number of categories: (3,)\n",
      "Categorical feature: traveltime    Number of categories: (4,)\n",
      "Categorical feature: studytime    Number of categories: (4,)\n",
      "Categorical feature: famrel    Number of categories: (5,)\n",
      "Categorical feature: freetime    Number of categories: (5,)\n",
      "Categorical feature: goout    Number of categories: (5,)\n",
      "Categorical feature: health    Number of categories: (5,)\n",
      "Valued feature: absences\n",
      "Valued feature: Marks\n",
      "Shape of X: (649, 64)\n",
      "Sample element from X: [1.0 0.0 0.0 1.0 15 0.0 1.0 1.0 0.0 0.0 1.0 0.0 0.0 0.0 0.0 1.0 0.0 0.0\n",
      " 0.0 1.0 0.0 0.0 0.0 0.0 0.0 1.0 0.0 0.0 1.0 0.0 0.0 0.0 1.0 0.0 1.0 0.0\n",
      " 0.0 0.0 0.0 1.0 0.0 0.0 0.0 0.0 0.0 1.0 0.0 0.0 0.0 0.0 1.0 0.0 1.0 0.0\n",
      " 0.0 0.0 0.0 1.0 0.0 0.0 0.0 0.0 0 14]\n"
     ]
    }
   ],
   "source": [
    "#df.values contains the data, both the values of instances and the value of the label\n",
    "Data = df.values\n",
    "# the matrix including the categorical data is given by columns from the second one \n",
    "X_categorical = Data[:,1:]\n",
    "# the target value (class) is in the first column\n",
    "Y = Data[:,0]\n",
    "\n",
    "print(list(df))\n",
    "\n",
    "# get the number d of features of each sample\n",
    "d = X_categorical.shape[1]\n",
    "\n",
    "# get the number m of samples\n",
    "m = X_categorical.shape[0]\n",
    "\n",
    "#let's see what the number of samples is\n",
    "print(\"Number of samples: {}\".format(m))\n",
    "\n",
    "#now encode categorical variables using integers and one-hot-encoder\n",
    "\n",
    "from sklearn.preprocessing import LabelEncoder, OneHotEncoder\n",
    "label_encoder = LabelEncoder()\n",
    "onehot_encoder = OneHotEncoder(categories='auto')\n",
    "\n",
    "# encode the first column of the data matrix into indicator variables\n",
    "\n",
    "X_tmp = label_encoder.fit_transform(X_categorical[:,0])\n",
    "X_tmp = X_tmp.reshape(X_tmp.shape[0],1)\n",
    "X = onehot_encoder.fit_transform(X_tmp[:,0].reshape(-1,1)).toarray()\n",
    "print(\"Categorical feature:\", df.columns[1], \"   Number of categories:\", X[1,:].shape)\n",
    "\n",
    "# repeat for the other categorical input variables\n",
    "index_categorical = [1,3,4,5,6,7,8,9,10,11,12,13,14,15,16]\n",
    "\n",
    "for i in range(1,19):\n",
    "    if i in index_categorical:\n",
    "        X_tmp = label_encoder.fit_transform(X_categorical[:,i])\n",
    "        X_tmp = X_tmp.reshape(X_tmp.shape[0],1)\n",
    "        X_tmp = onehot_encoder.fit_transform(X_tmp[:,0].reshape(-1,1)).toarray()\n",
    "        X = np.hstack((X,X_tmp))\n",
    "        print(\"Categorical feature:\", df.columns[i+1], \"   Number of categories:\", X_tmp[1,:].shape)\n",
    "    else:\n",
    "        X_tmp = X_categorical[:,i]\n",
    "        X_tmp = X_tmp.reshape(X_tmp.shape[0],1)\n",
    "        X = np.hstack((X,X_tmp))\n",
    "        print(\"Valued feature:\", df.columns[i+1])\n",
    "        \n",
    "print(\"Shape of X:\", X.shape)\n",
    "print(\"Sample element from X:\", X[20,:])"
   ]
  },
  {
   "cell_type": "markdown",
   "metadata": {},
   "source": [
    "## Data Preprocessing\n",
    "\n",
    "The class labels are already 0-1, so we can use them directly."
   ]
  },
  {
   "cell_type": "code",
   "execution_count": 51,
   "metadata": {},
   "outputs": [
    {
     "name": "stdout",
     "output_type": "stream",
     "text": [
      "Number of classes: 2\n"
     ]
    }
   ],
   "source": [
    "# properly encode the target labels\n",
    "Y = label_encoder.fit_transform(Y)\n",
    "K = max(Y) + 1 # number of classes\n",
    "\n",
    "print(\"Number of classes: \"+str(K))"
   ]
  },
  {
   "cell_type": "markdown",
   "metadata": {},
   "source": [
    "Given $m$ total data points, keep $m\\_training = 100$ data points as data for ***training and validation*** and $m\\_test = m - m\\_training$ as test data. Splitting is random, using as seed your ID number. Make sure that the training set contains at least 10 instances from each class.If it does not, modify the code so to apply a random\n",
    "permutation (or the same permutation multiple times) to the samples until this happens."
   ]
  },
  {
   "cell_type": "code",
   "execution_count": 52,
   "metadata": {},
   "outputs": [
    {
     "name": "stdout",
     "output_type": "stream",
     "text": [
      "[0 1 0 0 1 1 1 1 0 1 1 1 0 0 0 0 0 1 1 1 0 0 0 0 0 0 1 1 1 1 0 0 1 0 0 0 1\n",
      " 0 1 0 0 0 1 1 0 0 0 0 0 0 1 0 1 1 1 0 1 0 0 0 0 0 1 1 1 1 1 1 0 0 1 1 1 1\n",
      " 1 0 0 1 0 0 0 0 1 1 1 0 1 1 0 0 1 1 0 0 0 1 1 0 0 0]\n",
      "0.45454545454545453\n"
     ]
    }
   ],
   "source": [
    "# Split data into training and validation data\n",
    "\n",
    "# load a package which is useful for the training-test splitting\n",
    "# from sklearn.cross_validation import train_test_split\n",
    "from sklearn.model_selection import train_test_split\n",
    "\n",
    "# number of samples\n",
    "m = np.shape(X)[0]\n",
    "\n",
    "#Divide in training and test: make sure that your training set\n",
    "#contains at least 10 elements from class 1 and at least 10 elements\n",
    "#from class -1! If it does not, modify the code so to apply more random\n",
    "#permutations (or the same permutation multiple times) until this happens.\n",
    "\n",
    "permutation = np.random.permutation(m)\n",
    "X = X[permutation]\n",
    "Y = Y[permutation]\n",
    "\n",
    "m_training = 100 #  # use 100 samples for training + validation...\n",
    "m_test = m-m_training # and the rest for testing\n",
    "\n",
    "# test_size is the proportion of samples in the test set\n",
    "X_training, X_test, Y_training, Y_test = train_test_split(X, Y, test_size =float(m_test)/float(m), random_state = IDnumber)\n",
    "\n",
    "print(Y_training)\n",
    "\n",
    "m_training = X_training.shape[0]\n",
    "m_test = X_test.shape[0]\n",
    "\n",
    "#let's see what the fraction of ones in the entire dataset is\n",
    "print(float(sum(Y_training)+sum(Y_test))/float(m_training+m_test))"
   ]
  },
  {
   "cell_type": "markdown",
   "metadata": {},
   "source": [
    "Standardize the data to have zero-mean and unit variance (columnwise):"
   ]
  },
  {
   "cell_type": "code",
   "execution_count": 53,
   "metadata": {},
   "outputs": [],
   "source": [
    "# Standardize the Features Matrix\n",
    "from sklearn import preprocessing\n",
    "\n",
    "X = X.astype(np.float64) #standard scaler works with double precision data\n",
    "X_training = X_training.astype(np.float64)\n",
    "X_test = X_test.astype(np.float64)\n",
    "\n",
    "#let's use the standard scaling; we degine the scaling for the entire dataset\n",
    "scaler = preprocessing.StandardScaler().fit(X)\n",
    "\n",
    "#let's apply the scaling to the training set\n",
    "\n",
    "X_training = scaler.transform(X_training)\n",
    "#let's apply the scaling to the test set\n",
    "\n",
    "X_test = scaler.transform(X_test)"
   ]
  },
  {
   "cell_type": "markdown",
   "metadata": {},
   "source": [
    "### Perform Logistic Regression\n",
    "\n",
    "We now perform logistic regression using the function provided by Scikit-learn.\n",
    "\n",
    "Note: as provided by Scikit-learn, logistic regression is always implemented using regularization. However, the impact of regularization can be dampened to have almost no regularization by changing the parameter $C$, which is the inverse of $\\lambda$. Therefore to have no regularization, which is $\\lambda = 0$ for the model seen in class, we need $C$ to have a large value. Here we fix $C = 100000000$.\n",
    "\n",
    "[Note that the intercept is estimated in the model.]\n",
    "\n",
    "For all our models we are going to use 10-fold cross validation to estimate the parameters (when needed) and/or estimate the validation error."
   ]
  },
  {
   "cell_type": "code",
   "execution_count": 54,
   "metadata": {},
   "outputs": [
    {
     "name": "stdout",
     "output_type": "stream",
     "text": [
      "Values of parameter C tried in 10-fold Cross-Validation: [100000000]\n",
      "Accuracies obtained for the different values of C with 10-fold Cross-Validation: [0.64121212]\n",
      "Best value of parameter C according to 10-fold Cross-Validation: 100000000\n",
      "<class 'dict'>\n",
      "10-fold Cross-Validation accuracies obtained with the best value of parameter C: [0.77777778]\n"
     ]
    }
   ],
   "source": [
    "from sklearn import linear_model\n",
    "\n",
    "# define a logistic regression model with very high C parameter -> low impact from regularization;\n",
    "# there are many solvers available to obtain the solution to the logistic regression problem, we just pick\n",
    "# one of them; 'cv' is the number of folds in cross-validation; we also specify l2 as regularization penalty,\n",
    "# just to pick one; Cs contains the values of C to be tested and to pick from with validation. Here we\n",
    "# are interested in only 1 value of C, and use cross-validation just to estimate the validation error\n",
    "# in a same way as other models\n",
    "\n",
    "reg = linear_model.LogisticRegressionCV(Cs=[100000000], solver='newton-cg',cv=10, penalty='l2')\n",
    "\n",
    "#fit the model on training data\n",
    "reg.fit(X_training, Y_training)\n",
    "\n",
    "# the attribute 'Cs_' contains ALL the values of C evaluated in cross-validation;\n",
    "# let's print them\n",
    "print(\"Values of parameter C tried in 10-fold Cross-Validation: {}\".format( reg.Cs_ ))\n",
    "\n",
    "# the attribute 'scores_' contains the accuracy obtained in each fold, for each value \n",
    "# of C tried; we now compute the average accuracy across the 10 folds\n",
    "\n",
    "CV_accuracies = np.divide(np.sum(reg.scores_[1],axis=0),10)\n",
    "\n",
    "# let's print the average accuracies obtained for the various values of C\n",
    "\n",
    "print(\"Accuracies obtained for the different values of C with 10-fold Cross-Validation: {}\".format( CV_accuracies ))\n",
    "\n",
    "# the attribute 'C_' contains the best value of C as identified by cross-validation;\n",
    "# let's print it\n",
    "\n",
    "print(\"Best value of parameter C according to 10-fold Cross-Validation: {}\".format( reg.C_[0] ))\n",
    "\n",
    "# let's store the best CV accuracy, and then print it\n",
    "print(type(reg.scores_))\n",
    "reg_best_CV_accuracy = max(reg.scores_[1])\n",
    "print(\"10-fold Cross-Validation accuracies obtained with the best value of parameter C: {}\".format( reg_best_CV_accuracy ))"
   ]
  },
  {
   "cell_type": "markdown",
   "metadata": {},
   "source": [
    "Note that the logistic regression function in Scikit-learn has many optional parameters. Read the documentation if you want to understand what they do!"
   ]
  },
  {
   "cell_type": "markdown",
   "metadata": {},
   "source": [
    "## TODO 1\n",
    "### Learn the best model from Logistic Regression on the entire training set and examine coefficients (by printing and plotting them)\n",
    "\n",
    "Note that you can use simply $linear\\_model.LogisticRegression()$, that does not use cross-validation, without passing the best value of $C$ (and then fit())."
   ]
  },
  {
   "cell_type": "code",
   "execution_count": 55,
   "metadata": {},
   "outputs": [
    {
     "name": "stdout",
     "output_type": "stream",
     "text": [
      "Coefficients obtained using the entire training set: [[  2.32605163  -2.32605163 -24.07533164  24.07533164  50.34094864\n",
      "    0.54655057  -0.54655057 -11.26623592  11.26623592   2.55083877\n",
      "   -2.55083877   1.60008704 -12.02792078  18.63408541   7.17455632\n",
      "  -14.73042113   1.47991074  -4.8097492   -9.28261988  16.78150821\n",
      "   -1.057245    -7.04112018   2.47257994   0.12464681  -6.11912803\n",
      "   14.77506564  21.31286711   2.85893548 -16.12905498  20.00576363\n",
      "  -29.48341428   8.3587814   -8.76451208   1.90834838  -0.17554021\n",
      "   -8.48860163  14.26236063   0.86276669   6.97184294  16.51923016\n",
      "   -7.59765371 -38.98361806   3.56759243   3.91001333   6.94009465\n",
      "   21.27100457 -32.61605017  11.20232033 -21.82372135  13.25744612\n",
      "   -2.86040417   0.23500865 -23.92008331 -33.84551626  20.69368324\n",
      "   24.40093275   1.80131612  19.31581078  10.86352143 -27.46898769\n",
      "  -14.44724284  12.28045187   4.34373179   5.02668531]]\n",
      "Intercept: [-16.60517564]\n"
     ]
    },
    {
     "data": {
      "image/png": "[encoded data removed]",
      "text/plain": [
       "<Figure size 432x288 with 1 Axes>"
      ]
     },
     "metadata": {
      "needs_background": "light"
     },
     "output_type": "display_data"
    }
   ],
   "source": [
    "#Use a large C to disable regularization\n",
    "reg_full = linear_model.LogisticRegression(C=100000000, solver='newton-cg', penalty='l2')\n",
    "\n",
    "reg_full.fit(X_training, Y_training)\n",
    "\n",
    "# print the coefficients from the logistic regression model.\n",
    "print(\"Coefficients obtained using the entire training set: {}\".format( reg_full.coef_ ))\n",
    "\n",
    "# note that the intercept is not in coef_, it is in intercept_\n",
    "\n",
    "print(\"Intercept: {}\".format( reg_full.intercept_ ))\n",
    "\n",
    "# Plot the coefficients\n",
    "reg_coef = reg_full.coef_.reshape(reg_full.coef_.shape[1],)\n",
    "plt.figure()\n",
    "ind = np.arange(1,len(reg_coef)+1)  # the x locations for the groups\n",
    "width = 0.45       # the width of the bars\n",
    "plt.bar(ind, reg_coef, width, color='r')\n",
    "plt.xlabel('Coefficient Index')\n",
    "plt.ylabel('Coefficient Value')\n",
    "plt.title('Logistic Regression Coefficients')\n",
    "plt.show()"
   ]
  },
  {
   "cell_type": "code",
   "execution_count": 56,
   "metadata": {},
   "outputs": [
    {
     "name": "stdout",
     "output_type": "stream",
     "text": [
      "[0.5465505677640714]\n",
      "[0.5465505677640714, -0.5465505677640572]\n",
      "[0.5465505677640714, -0.5465505677640572, 0.1246468110909793]\n",
      "[0.5465505677640714, -0.5465505677640572, 0.1246468110909793, -0.17554020793164848]\n",
      "[0.5465505677640714, -0.5465505677640572, 0.1246468110909793, -0.17554020793164848, 0.862766687003775]\n",
      "[0.5465505677640714, -0.5465505677640572, 0.1246468110909793, -0.17554020793164848, 0.862766687003775, 0.2350086477932879]\n",
      "Number of coefficients between -1 and 1:  6\n"
     ]
    }
   ],
   "source": [
    "near_zero_coeff = []\n",
    "for i in range(len(reg_full.coef_[0])):\n",
    "    if reg_full.coef_[0,i] < 1 and reg_full.coef_[0,i] > -1:\n",
    "        near_zero_coeff.append(reg_full.coef_[0,i])\n",
    "        print(near_zero_coeff)\n",
    "print(\"Number of coefficients between -1 and 1: \", len(near_zero_coeff))"
   ]
  },
  {
   "cell_type": "markdown",
   "metadata": {},
   "source": [
    "## TO DO 2\n",
    "\n",
    "### Questions: How many coefficients do you get (recall that the one-hot encoding has been used for some of the features)? Why? How many of them are \"close\" to 0? What do negative coefficient values mean? (max 5 lines)\n",
    "\n",
    "### Answer to the questions\n",
    "I get 64 coefficients. That is also the number of categories after one-hot encoding has been used fro the features. Therefore I think that that the number of coefficients that I get is due to the encoding process.\n",
    "In the cell above is shown the number of coefficients \"close\" to 0 (included in a range between -1 and 1).\n",
    "I think that negative coefficient values mean that the odds ratio between the category and the reference category is less than 1, that is if the category increases, the reference category will decrease.\n"
   ]
  },
  {
   "cell_type": "markdown",
   "metadata": {},
   "source": [
    "## TO DO 3\n",
    "### Predict labels on training and test\n",
    "\n",
    "- Compute the predicted labels on training and test data using reg.predict\n",
    " - Evaluate the accuracy using metrics.accuracy_score from scikit-learn (it returns the percentage of data correctly classified).\n",
    " - Evaluate the score used by logistic regression on training and test data using metrics.accuracy_score()"
   ]
  },
  {
   "cell_type": "code",
   "execution_count": 57,
   "metadata": {},
   "outputs": [
    {
     "name": "stdout",
     "output_type": "stream",
     "text": [
      "Accuracy for training dataset: 1.0\n",
      "Accuracy for test dataset: 0.6138433515482696\n"
     ]
    }
   ],
   "source": [
    "from sklearn import metrics\n",
    "\n",
    "# prediction on training data\n",
    "Y_training_prediction_LR = reg_full.predict(X_training)\n",
    "\n",
    "# compute accuracy as suggested above using metrics.accuracy_score from scikit-learn for training dataset\n",
    "\n",
    "print(\"Accuracy for training dataset:\", metrics.accuracy_score(Y_training, Y_training_prediction_LR))\n",
    "\n",
    "# prediction on test data\n",
    "Y_test_prediction_LR = reg_full.predict(X_test)\n",
    "\n",
    "# compute accuracy as suggested above using metrics.accuracy_score from scikit-learn for test dataset\n",
    "\n",
    "print(\"Accuracy for test dataset:\", metrics.accuracy_score(Y_test, Y_test_prediction_LR))"
   ]
  },
  {
   "cell_type": "markdown",
   "metadata": {},
   "source": [
    "## TO DO 4\n",
    "### Use L2 regularized logistic regression with cross-validation\n",
    "\n",
    "We perform the L2 regularization for different values of the regularization parameter $C$, and use the Scikit-learn function to perform cross-validation (CV).\n",
    "\n",
    "In L2 regularized logistic regression, the following L2 regularization term is added to the loss:\n",
    "\n",
    "$$\n",
    "    \\lambda \\sum_{i=1}^d w_i^2\n",
    "$$\n",
    "\n",
    "The parameter $C$ used by Scikit learn corresponds to the inverse of $\\lambda$, that is $C = \\frac{1}{\\lambda}$.\n",
    "\n",
    "Note: the CV in Scikit-learn is by default a *stratified* CV, that means that data is split into train-validation while maintaining the proportion of different classes in each fold.\n",
    "\n",
    "In the code below:\n",
    "- use LogisticRegressionCV() to select the best value of C with a 10-fold CV with L2 penalty;\n",
    "- use LogisticRegression() to learn the best model for the best C with L2 penalty on the entire training set\n",
    "\n",
    "Note that LogisticRegressionCV() picks some default values of C to try, but you may need to pass some other values in case for your dataset you need to explore a different interval of values. This applies every time that you use LogisticRegressionCV()."
   ]
  },
  {
   "cell_type": "code",
   "execution_count": 58,
   "metadata": {},
   "outputs": [
    {
     "name": "stdout",
     "output_type": "stream",
     "text": [
      "Values of parameter C tried in 10-fold Cross-Validation: [1.00000000e-04 7.74263683e-04 5.99484250e-03 4.64158883e-02\n",
      " 3.59381366e-01 2.78255940e+00 2.15443469e+01 1.66810054e+02\n",
      " 1.29154967e+03 1.00000000e+04]\n",
      "Accuracies obtained for the different values of C with 10-fold Cross-Validation: 0.99\n",
      "Best value of C: [21.5443469]\n",
      "[[0.54545455 0.54545455 0.54545455 0.54545455 0.54545455 0.63636364\n",
      "  0.63636364 0.72727273 0.72727273 0.72727273]\n",
      " [0.54545455 0.54545455 0.63636364 0.72727273 0.72727273 0.63636364\n",
      "  0.54545455 0.54545455 0.54545455 0.54545455]\n",
      " [0.54545455 0.54545455 0.54545455 0.54545455 0.63636364 0.63636364\n",
      "  0.63636364 0.63636364 0.63636364 0.63636364]\n",
      " [0.54545455 0.54545455 0.72727273 0.54545455 0.45454545 0.45454545\n",
      "  0.63636364 0.63636364 0.63636364 0.63636364]\n",
      " [0.5        0.5        0.7        0.7        0.7        0.7\n",
      "  0.8        0.7        0.7        0.7       ]\n",
      " [0.5        0.5        0.5        0.6        0.6        0.5\n",
      "  0.5        0.5        0.5        0.5       ]\n",
      " [0.55555556 0.55555556 0.66666667 0.66666667 0.55555556 0.55555556\n",
      "  0.55555556 0.66666667 0.66666667 0.66666667]\n",
      " [0.55555556 0.55555556 0.88888889 0.88888889 0.88888889 0.88888889\n",
      "  0.77777778 0.77777778 0.77777778 0.77777778]\n",
      " [0.55555556 0.55555556 0.77777778 0.66666667 0.66666667 0.66666667\n",
      "  0.77777778 0.66666667 0.66666667 0.66666667]\n",
      " [0.55555556 0.55555556 0.44444444 0.55555556 0.44444444 0.66666667\n",
      "  0.66666667 0.66666667 0.66666667 0.66666667]]\n",
      "10-fold Cross-Validation accuracies obtained with the best value of parameter C: 0.8888888888888888\n"
     ]
    },
    {
     "data": {
      "text/plain": [
       "LogisticRegressionCV(Cs=array([21.5443469]), class_weight=None, cv=10,\n",
       "                     dual=False, fit_intercept=True, intercept_scaling=1.0,\n",
       "                     l1_ratios=None, max_iter=100, multi_class='warn',\n",
       "                     n_jobs=None, penalty='l2', random_state=None, refit=True,\n",
       "                     scoring=None, solver='newton-cg', tol=0.0001, verbose=0)"
      ]
     },
     "execution_count": 58,
     "metadata": {},
     "output_type": "execute_result"
    }
   ],
   "source": [
    "#define the model using LogisticRegressionCV passing an appropriate solver, cv value, and choice of penalty\n",
    "regL2 = linear_model.LogisticRegressionCV(solver='newton-cg',cv=10, penalty='l2')\n",
    "\n",
    "#fit the model on training data\n",
    "\n",
    "regL2.fit(X_training, Y_training)\n",
    "\n",
    "# the attribute 'Cs_' contains ALL the values of C evaluated in cross-validation;\n",
    "# let's print them\n",
    "print(\"Values of parameter C tried in 10-fold Cross-Validation: {}\".format( regL2.Cs_ ))\n",
    "\n",
    "# the attribute 'scores_' contains the accuracy obtained in each fold, for each value \n",
    "# of C tried; we now compute the average accuracy across the 10 folds\n",
    "\n",
    "CV_prediction = regL2.predict(X_training)\n",
    "\n",
    "CV_accuracies = metrics.accuracy_score(Y_training, CV_prediction)\n",
    "\n",
    "# let's print the average accuracies obtained for the various values of C\n",
    "\n",
    "print(\"Accuracies obtained for the different values of C with 10-fold Cross-Validation: {}\".format( CV_accuracies ))\n",
    "\n",
    "# the attribute 'C_' contains the best value of C as identified by cross-validation;\n",
    "# let's print it\n",
    "\n",
    "print(\"Best value of C: {}\".format( regL2.C_ ))\n",
    "\n",
    "# let's store the best CV accuracy, and then print it\n",
    "print(regL2.scores_[1])\n",
    "regL2_best_CV_accuracy = np.max(regL2.scores_[1])\n",
    "print(\"10-fold Cross-Validation accuracies obtained with the best value of parameter C: {}\".format( regL2_best_CV_accuracy ))\n",
    "\n",
    "#define the model using the best C and an appropriate solver\n",
    "\n",
    "regL2_best = linear_model.LogisticRegressionCV(Cs=regL2.C_, solver='newton-cg',cv=10, penalty='l2')\n",
    "\n",
    "#fit the model using the best C on the entire training set\n",
    "\n",
    "regL2_best.fit(X_training, Y_training)"
   ]
  },
  {
   "cell_type": "markdown",
   "metadata": {},
   "source": [
    "### TO DO 5: Print and plot the coefficients from logistic regression with and without regularization."
   ]
  },
  {
   "cell_type": "code",
   "execution_count": 59,
   "metadata": {},
   "outputs": [
    {
     "name": "stdout",
     "output_type": "stream",
     "text": [
      "Coefficients obtained using the entire training set without regularization: [[  2.32605163  -2.32605163 -24.07533164  24.07533164  50.34094864\n",
      "    0.54655057  -0.54655057 -11.26623592  11.26623592   2.55083877\n",
      "   -2.55083877   1.60008704 -12.02792078  18.63408541   7.17455632\n",
      "  -14.73042113   1.47991074  -4.8097492   -9.28261988  16.78150821\n",
      "   -1.057245    -7.04112018   2.47257994   0.12464681  -6.11912803\n",
      "   14.77506564  21.31286711   2.85893548 -16.12905498  20.00576363\n",
      "  -29.48341428   8.3587814   -8.76451208   1.90834838  -0.17554021\n",
      "   -8.48860163  14.26236063   0.86276669   6.97184294  16.51923016\n",
      "   -7.59765371 -38.98361806   3.56759243   3.91001333   6.94009465\n",
      "   21.27100457 -32.61605017  11.20232033 -21.82372135  13.25744612\n",
      "   -2.86040417   0.23500865 -23.92008331 -33.84551626  20.69368324\n",
      "   24.40093275   1.80131612  19.31581078  10.86352143 -27.46898769\n",
      "  -14.44724284  12.28045187   4.34373179   5.02668531]]\n",
      "Coefficients obtained using the entire training set with regularization: [[ 3.53115794e-01 -3.53115794e-01 -2.86940614e+00  2.86940614e+00\n",
      "   5.58665155e+00 -8.26702038e-03  8.26702038e-03 -1.15984789e+00\n",
      "   1.15984789e+00  2.42239002e-01 -2.42239002e-01  1.03172621e-04\n",
      "  -1.46328785e+00  2.00373000e+00  9.20561633e-01 -1.52599780e+00\n",
      "  -2.94087149e-05 -3.86245923e-01 -9.22696498e-01  1.65684884e+00\n",
      "  -1.57805150e-01 -2.86600836e-01  4.56581895e-02 -7.12473174e-02\n",
      "  -7.06678870e-01  1.35916679e+00  2.14565088e+00 -4.02736639e-04\n",
      "  -1.63921842e+00  2.18935485e+00 -3.04540199e+00  1.27261769e+00\n",
      "  -1.36599980e+00  3.50026622e-01  2.78061872e-01 -9.03577625e-01\n",
      "   1.13990602e+00 -1.83409831e-01  7.22762035e-01  1.39948310e+00\n",
      "  -2.92355979e-01 -4.13147436e+00  4.09053500e-01  2.27548128e-01\n",
      "   9.54982672e-01  2.50075029e+00 -3.83581854e+00  9.08938391e-01\n",
      "  -2.06994889e+00  1.43899903e+00 -4.30885255e-01  9.34550415e-02\n",
      "  -2.86676742e+00 -3.72976368e+00  1.86778140e+00  3.20542927e+00\n",
      "   3.03117410e-01  2.15610032e+00  1.28526340e+00 -3.22823662e+00\n",
      "  -1.02762916e+00  1.00514680e+00  5.44304864e-01  4.57227224e-01]]\n",
      "Intercept: [-2.10488743]\n"
     ]
    },
    {
     "data": {
      "image/png": "[encoded data removed]",
      "text/plain": [
       "<Figure size 432x288 with 1 Axes>"
      ]
     },
     "metadata": {
      "needs_background": "light"
     },
     "output_type": "display_data"
    }
   ],
   "source": [
    "#print the coefficients from logistic regression\n",
    "\n",
    "print(\"Coefficients obtained using the entire training set without regularization: {}\".format( reg_full.coef_ ))\n",
    "\n",
    "#print the coefficients from L2 regularized logistic regression\n",
    "\n",
    "print(\"Coefficients obtained using the entire training set with regularization: {}\".format( regL2_best.coef_ ))\n",
    "\n",
    "\n",
    "# note that the intercept is not in coef_, it is in intercept_\n",
    "\n",
    "print(\"Intercept: {}\".format( regL2_best.intercept_ ))\n",
    "\n",
    "# Plot the coefficients\n",
    "regL2_best_coef = regL2_best.coef_.reshape(regL2_best.coef_.shape[1],)\n",
    "ind = np.arange(1,len(reg_coef)+1)  # the x locations for the groups\n",
    "width = 0.35       # the width of the bars\n",
    "fig, ax = plt.subplots()\n",
    "\n",
    "rects1 = ax.bar(ind, reg_coef, width, color='r')\n",
    "rects2 = ax.bar(ind + width, regL2_best_coef, width, color='g')\n",
    "ax.legend((rects1[0], rects2[0]), ('Log Regr', 'Log Regr + L2 Regul'))\n",
    "plt.xlabel('Coefficient Idx')\n",
    "plt.ylabel('Coefficient Value')\n",
    "plt.title('Logistic Regression Coefficients: Standard and Regularized Version')\n",
    "plt.show()"
   ]
  },
  {
   "cell_type": "markdown",
   "metadata": {},
   "source": [
    "### TO DO 6: how do the coefficients from logistic regression with L2 regularization compare to the ones from logistic regression without regularization ? Why? (max 5 lines)\n",
    "\n",
    "### Answer to the questions\n",
    "The coefficients obtainde from logistic regression with L2 regularization are all really close to zero opposed to the coefficients obtained from logistic regression without regularization. That is because if we take the best value for C, we are using the strongest regularization for this problem, and stronger regularizations are represented by smaller values.  "
   ]
  },
  {
   "cell_type": "markdown",
   "metadata": {},
   "source": [
    "### TO DO 7: obtain classification accuracy on training and test data for the L2 regularized model"
   ]
  },
  {
   "cell_type": "code",
   "execution_count": 60,
   "metadata": {},
   "outputs": [
    {
     "name": "stdout",
     "output_type": "stream",
     "text": [
      "Training Accuracy: 0.99\n",
      "Test Accuracy: 0.6083788706739527\n",
      "Accuracy for training dataset: 1.0\n",
      "Accuracy for test dataset: 0.6138433515482696\n"
     ]
    }
   ],
   "source": [
    "#now get training and test error and print training and test accuracy\n",
    "\n",
    "# predictions on training data \n",
    "Y_training_prediction_LR_L2 = regL2_best.predict(X_training)\n",
    "\n",
    "# predictions on test data \n",
    "Y_test_prediction_LR_L2 = regL2_best.predict(X_test)\n",
    "\n",
    "# compute accuracy as suggested above using metrics.accuracy_score from scikit-learn on training data\n",
    "print(\"Training Accuracy:\", metrics.accuracy_score(Y_training, Y_training_prediction_LR_L2))\n",
    "\n",
    "# compute accuracy as suggested above using metrics.accuracy_score from scikit-learn on test data\n",
    "print(\"Test Accuracy:\", metrics.accuracy_score(Y_test, Y_test_prediction_LR_L2))\n",
    "\n",
    "\n",
    "\n",
    "# compute accuracy as suggested above using metrics.accuracy_score from scikit-learn for training dataset\n",
    "\n",
    "print(\"Accuracy for training dataset:\", metrics.accuracy_score(Y_training, Y_training_prediction_LR))\n",
    "\n",
    "# compute accuracy as suggested above using metrics.accuracy_score from scikit-learn for test dataset\n",
    "\n",
    "print(\"Accuracy for test dataset:\", metrics.accuracy_score(Y_test, Y_test_prediction_LR))"
   ]
  },
  {
   "cell_type": "markdown",
   "metadata": {},
   "source": [
    "### TO DO 8: How does training and test accuracies change when using regularization? Comment (max 5 lines)\n",
    "\n",
    "### Answer to the question\n",
    "Both the training and test accuracy obtained with L2 regularization are lower than the training and test accuracy obtained without regularization"
   ]
  },
  {
   "cell_type": "markdown",
   "metadata": {
    "collapsed": true
   },
   "source": [
    "### TO DO 9: Use larger datasets for training set\n",
    "\n",
    "Perform the same estimation procedures using different more points on the training data, that is fix $m_{training} = 400$. You can simply copy and paste all the code you have written previously into the cell below."
   ]
  },
  {
   "cell_type": "code",
   "execution_count": 61,
   "metadata": {
    "scrolled": false
   },
   "outputs": [
    {
     "name": "stdout",
     "output_type": "stream",
     "text": [
      "[1 0 1 0 0 0 0 1 0 0 1 0 1 0 0 1 0 0 0 0 0 0 1 0 0 1 0 0 1 1 1 1 0 0 1 1 1\n",
      " 0 0 1 1 1 0 0 0 0 0 0 0 0 0 0 0 1 0 1 1 0 0 0 0 1 0 1 0 1 1 0 0 1 0 0 0 1\n",
      " 1 0 1 0 0 1 0 0 0 1 1 1 1 1 1 1 0 1 0 0 1 0 1 0 1 0 1 1 0 1 1 0 0 1 0 1 0\n",
      " 0 1 0 1 0 1 1 0 1 1 1 0 1 0 1 1 1 0 0 0 0 1 0 1 0 0 0 0 0 0 0 0 1 1 0 1 0\n",
      " 0 0 1 0 1 0 0 1 0 0 0 0 0 1 0 0 0 0 1 0 1 1 0 0 1 1 1 0 1 1 1 0 1 1 0 0 0\n",
      " 1 1 1 1 0 1 1 1 1 0 0 1 1 1 1 0 0 0 0 0 0 1 0 1 0 1 1 0 0 1 1 1 0 0 0 0 1\n",
      " 1 0 0 0 0 1 0 0 0 0 1 0 1 1 1 0 0 0 1 0 0 0 1 1 0 1 0 0 1 1 0 1 1 0 0 0 0\n",
      " 1 1 0 0 1 0 0 1 0 1 1 0 0 1 0 1 0 0 0 1 0 1 0 1 0 0 0 0 0 0 1 0 1 1 0 0 1\n",
      " 1 0 0 1 1 0 0 1 0 0 0 0 0 1 0 1 0 0 1 1 1 0 1 0 1 0 1 1 0 1 0 0 0 0 0 0 1\n",
      " 1 0 1 1 0 1 1 1 0 0 1 0 1 0 1 1 0 1 1 0 0 1 0 1 1 1 1 0 0 0 1 1 0 1 1 0 1\n",
      " 0 0 0 1 0 0 1 0 0 0 1 0 1 0 0 0 1 0 0 1 1 1 1 1 0 0 0 0 1 0]\n",
      "0.45454545454545453\n"
     ]
    }
   ],
   "source": [
    "# Split data into training and validation data\n",
    "\n",
    "# number of samples\n",
    "m = np.shape(X)[0]\n",
    "\n",
    "#Divide in training and test: make sure that your training set\n",
    "#contains at least 10 elements from class 1 and at least 10 elements\n",
    "#from class -1! If it does not, modify the code so to apply more random\n",
    "#permutations (or the same permutation multiple times) until this happens.\n",
    "\n",
    "permutation = np.random.permutation(m)\n",
    "X = X[permutation]\n",
    "Y = Y[permutation]\n",
    "\n",
    "m_training = 400 #  \n",
    "m_test = m-m_training # and the rest for testing\n",
    "\n",
    "# test_size is the proportion of samples in the test set\n",
    "X_training, X_test, Y_training, Y_test = train_test_split(X, Y, test_size =float(m_test)/float(m), random_state = IDnumber)\n",
    "\n",
    "print(Y_training)\n",
    "\n",
    "m_training = X_training.shape[0]\n",
    "m_test = X_test.shape[0]\n",
    "\n",
    "#let's see what the fraction of ones in the entire dataset is\n",
    "print(float(sum(Y_training)+sum(Y_test))/float(m_training+m_test))"
   ]
  },
  {
   "cell_type": "code",
   "execution_count": 62,
   "metadata": {},
   "outputs": [],
   "source": [
    "# Standardize the Features Matrix\n",
    "\n",
    "X = X.astype(np.float64) #standard scaler works with double precision data\n",
    "X_training = X_training.astype(np.float64)\n",
    "X_test = X_test.astype(np.float64)\n",
    "\n",
    "#let's use the standard scaling; we degine the scaling for the entire dataset\n",
    "scaler = preprocessing.StandardScaler().fit(X)\n",
    "\n",
    "#let's apply the scaling to the training set\n",
    "\n",
    "X_training = scaler.transform(X_training)\n",
    "#let's apply the scaling to the test set\n",
    "\n",
    "X_test = scaler.transform(X_test)"
   ]
  },
  {
   "cell_type": "code",
   "execution_count": 63,
   "metadata": {},
   "outputs": [
    {
     "name": "stdout",
     "output_type": "stream",
     "text": [
      "Values of parameter C tried in 10-fold Cross-Validation: [100000000]\n",
      "Accuracies obtained for the different values of C with 10-fold Cross-Validation: [0.66066291]\n",
      "Best value of parameter C according to 10-fold Cross-Validation: 100000000\n",
      "<class 'dict'>\n",
      "10-fold Cross-Validation accuracies obtained with the best value of parameter C: [0.74358974]\n"
     ]
    }
   ],
   "source": [
    "# define a logistic regression model with very high C parameter -> low impact from regularization;\n",
    "# there are many solvers available to obtain the solution to the logistic regression problem, we just pick\n",
    "# one of them; 'cv' is the number of folds in cross-validation; we also specify l2 as regularization penalty,\n",
    "# just to pick one; Cs contains the values of C to be tested and to pick from with validation. Here we\n",
    "# are interested in only 1 value of C, and use cross-validation just to estimate the validation error\n",
    "# in a same way as other models\n",
    "\n",
    "reg = linear_model.LogisticRegressionCV(Cs=[100000000], solver='newton-cg',cv=10, penalty='l2')\n",
    "\n",
    "#fit the model on training data\n",
    "reg.fit(X_training, Y_training)\n",
    "\n",
    "# the attribute 'Cs_' contains ALL the values of C evaluated in cross-validation;\n",
    "# let's print them\n",
    "print(\"Values of parameter C tried in 10-fold Cross-Validation: {}\".format( reg.Cs_ ))\n",
    "\n",
    "# the attribute 'scores_' contains the accuracy obtained in each fold, for each value \n",
    "# of C tried; we now compute the average accuracy across the 10 folds\n",
    "\n",
    "CV_accuracies = np.divide(np.sum(reg.scores_[1],axis=0),10)\n",
    "\n",
    "# let's print the average accuracies obtained for the various values of C\n",
    "\n",
    "print(\"Accuracies obtained for the different values of C with 10-fold Cross-Validation: {}\".format( CV_accuracies ))\n",
    "\n",
    "# the attribute 'C_' contains the best value of C as identified by cross-validation;\n",
    "# let's print it\n",
    "\n",
    "print(\"Best value of parameter C according to 10-fold Cross-Validation: {}\".format( reg.C_[0] ))\n",
    "\n",
    "# let's store the best CV accuracy, and then print it\n",
    "print(type(reg.scores_))\n",
    "reg_best_CV_accuracy = max(reg.scores_[1])\n",
    "print(\"10-fold Cross-Validation accuracies obtained with the best value of parameter C: {}\".format( reg_best_CV_accuracy ))"
   ]
  },
  {
   "cell_type": "code",
   "execution_count": 64,
   "metadata": {},
   "outputs": [
    {
     "name": "stdout",
     "output_type": "stream",
     "text": [
      "Coefficients obtained using the entire training set: [[ 0.03793378 -0.03793378 -0.27637114  0.27637114  0.23970661  0.02862305\n",
      "  -0.02862305 -0.1403771   0.1403771  -0.13457887  0.13457887 -0.01767398\n",
      "   0.17298298 -0.10103968  0.18737986 -0.22802273 -1.35823587  0.02460383\n",
      "   0.06148619  0.1000641   0.15205703 -0.08988196  0.12992073 -0.23434267\n",
      "   0.04439876  0.31553283  0.1000716  -0.29854566  0.06831823  0.0820583\n",
      "  -0.1751318   0.04964659 -0.06897475  0.04317071  0.02012928  0.04485624\n",
      "  -0.13782984  0.04528974  0.17407053 -0.17255942  0.10543026 -0.14655686\n",
      "   0.43395688  0.06704966  0.10916136  0.01369586 -0.31004021 -0.05157736\n",
      "   0.11002732 -0.01897788  0.03141853 -0.10611658 -0.39072114 -0.39682223\n",
      "   0.02843307  0.28456925  0.36509299 -0.07834111  0.04100621 -0.10458076\n",
      "   0.02771892  0.09157678  0.01020576 -0.40372469]]\n",
      "Intercept: [-0.41669887]\n"
     ]
    },
    {
     "data": {
      "image/png": "[encoded data removed]",
      "text/plain": [
       "<Figure size 432x288 with 1 Axes>"
      ]
     },
     "metadata": {
      "needs_background": "light"
     },
     "output_type": "display_data"
    }
   ],
   "source": [
    "#Use a large C to disable regularization\n",
    "reg_full = linear_model.LogisticRegression(C=100000000, solver='newton-cg', penalty='l2')\n",
    "\n",
    "reg_full.fit(X_training, Y_training)\n",
    "\n",
    "# print the coefficients from the logistic regression model.\n",
    "print(\"Coefficients obtained using the entire training set: {}\".format( reg_full.coef_ ))\n",
    "\n",
    "# note that the intercept is not in coef_, it is in intercept_\n",
    "\n",
    "print(\"Intercept: {}\".format( reg_full.intercept_ ))\n",
    "\n",
    "# Plot the coefficients\n",
    "reg_coef = reg_full.coef_.reshape(reg_full.coef_.shape[1],)\n",
    "plt.figure()\n",
    "ind = np.arange(1,len(reg_coef)+1)  # the x locations for the groups\n",
    "width = 0.45       # the width of the bars\n",
    "plt.bar(ind, reg_coef, width, color='r')\n",
    "plt.xlabel('Coefficient Index')\n",
    "plt.ylabel('Coefficient Value')\n",
    "plt.title('Logistic Regression Coefficients')\n",
    "plt.show()"
   ]
  },
  {
   "cell_type": "code",
   "execution_count": 65,
   "metadata": {},
   "outputs": [
    {
     "name": "stdout",
     "output_type": "stream",
     "text": [
      "[0.037933776545071705]\n",
      "[0.037933776545071705, -0.037933776545071705]\n",
      "[0.037933776545071705, -0.037933776545071705, -0.27637114328432105]\n",
      "[0.037933776545071705, -0.037933776545071705, -0.27637114328432105, 0.27637114328432105]\n",
      "[0.037933776545071705, -0.037933776545071705, -0.27637114328432105, 0.27637114328432105, 0.23970660533597085]\n",
      "[0.037933776545071705, -0.037933776545071705, -0.27637114328432105, 0.27637114328432105, 0.23970660533597085, 0.028623052558015828]\n",
      "[0.037933776545071705, -0.037933776545071705, -0.27637114328432105, 0.27637114328432105, 0.23970660533597085, 0.028623052558015828, -0.02862305255859232]\n",
      "[0.037933776545071705, -0.037933776545071705, -0.27637114328432105, 0.27637114328432105, 0.23970660533597085, 0.028623052558015828, -0.02862305255859232, -0.1403771022052074]\n",
      "[0.037933776545071705, -0.037933776545071705, -0.27637114328432105, 0.27637114328432105, 0.23970660533597085, 0.028623052558015828, -0.02862305255859232, -0.1403771022052074, 0.1403771022059963]\n",
      "[0.037933776545071705, -0.037933776545071705, -0.27637114328432105, 0.27637114328432105, 0.23970660533597085, 0.028623052558015828, -0.02862305255859232, -0.1403771022052074, 0.1403771022059963, -0.13457887361337018]\n",
      "[0.037933776545071705, -0.037933776545071705, -0.27637114328432105, 0.27637114328432105, 0.23970660533597085, 0.028623052558015828, -0.02862305255859232, -0.1403771022052074, 0.1403771022059963, -0.13457887361337018, 0.13457887361360868]\n",
      "[0.037933776545071705, -0.037933776545071705, -0.27637114328432105, 0.27637114328432105, 0.23970660533597085, 0.028623052558015828, -0.02862305255859232, -0.1403771022052074, 0.1403771022059963, -0.13457887361337018, 0.13457887361360868, -0.017673975426403265]\n",
      "[0.037933776545071705, -0.037933776545071705, -0.27637114328432105, 0.27637114328432105, 0.23970660533597085, 0.028623052558015828, -0.02862305255859232, -0.1403771022052074, 0.1403771022059963, -0.13457887361337018, 0.13457887361360868, -0.017673975426403265, 0.17298297616351554]\n",
      "[0.037933776545071705, -0.037933776545071705, -0.27637114328432105, 0.27637114328432105, 0.23970660533597085, 0.028623052558015828, -0.02862305255859232, -0.1403771022052074, 0.1403771022059963, -0.13457887361337018, 0.13457887361360868, -0.017673975426403265, 0.17298297616351554, -0.1010396769885656]\n",
      "[0.037933776545071705, -0.037933776545071705, -0.27637114328432105, 0.27637114328432105, 0.23970660533597085, 0.028623052558015828, -0.02862305255859232, -0.1403771022052074, 0.1403771022059963, -0.13457887361337018, 0.13457887361360868, -0.017673975426403265, 0.17298297616351554, -0.1010396769885656, 0.18737985757334724]\n",
      "[0.037933776545071705, -0.037933776545071705, -0.27637114328432105, 0.27637114328432105, 0.23970660533597085, 0.028623052558015828, -0.02862305255859232, -0.1403771022052074, 0.1403771022059963, -0.13457887361337018, 0.13457887361360868, -0.017673975426403265, 0.17298297616351554, -0.1010396769885656, 0.18737985757334724, -0.2280227322155696]\n",
      "[0.037933776545071705, -0.037933776545071705, -0.27637114328432105, 0.27637114328432105, 0.23970660533597085, 0.028623052558015828, -0.02862305255859232, -0.1403771022052074, 0.1403771022059963, -0.13457887361337018, 0.13457887361360868, -0.017673975426403265, 0.17298297616351554, -0.1010396769885656, 0.18737985757334724, -0.2280227322155696, 0.02460383196677438]\n",
      "[0.037933776545071705, -0.037933776545071705, -0.27637114328432105, 0.27637114328432105, 0.23970660533597085, 0.028623052558015828, -0.02862305255859232, -0.1403771022052074, 0.1403771022059963, -0.13457887361337018, 0.13457887361360868, -0.017673975426403265, 0.17298297616351554, -0.1010396769885656, 0.18737985757334724, -0.2280227322155696, 0.02460383196677438, 0.06148619395386828]\n",
      "[0.037933776545071705, -0.037933776545071705, -0.27637114328432105, 0.27637114328432105, 0.23970660533597085, 0.028623052558015828, -0.02862305255859232, -0.1403771022052074, 0.1403771022059963, -0.13457887361337018, 0.13457887361360868, -0.017673975426403265, 0.17298297616351554, -0.1010396769885656, 0.18737985757334724, -0.2280227322155696, 0.02460383196677438, 0.06148619395386828, 0.10006409831836899]\n",
      "[0.037933776545071705, -0.037933776545071705, -0.27637114328432105, 0.27637114328432105, 0.23970660533597085, 0.028623052558015828, -0.02862305255859232, -0.1403771022052074, 0.1403771022059963, -0.13457887361337018, 0.13457887361360868, -0.017673975426403265, 0.17298297616351554, -0.1010396769885656, 0.18737985757334724, -0.2280227322155696, 0.02460383196677438, 0.06148619395386828, 0.10006409831836899, 0.15205703327313297]\n",
      "[0.037933776545071705, -0.037933776545071705, -0.27637114328432105, 0.27637114328432105, 0.23970660533597085, 0.028623052558015828, -0.02862305255859232, -0.1403771022052074, 0.1403771022059963, -0.13457887361337018, 0.13457887361360868, -0.017673975426403265, 0.17298297616351554, -0.1010396769885656, 0.18737985757334724, -0.2280227322155696, 0.02460383196677438, 0.06148619395386828, 0.10006409831836899, 0.15205703327313297, -0.0898819631684546]\n",
      "[0.037933776545071705, -0.037933776545071705, -0.27637114328432105, 0.27637114328432105, 0.23970660533597085, 0.028623052558015828, -0.02862305255859232, -0.1403771022052074, 0.1403771022059963, -0.13457887361337018, 0.13457887361360868, -0.017673975426403265, 0.17298297616351554, -0.1010396769885656, 0.18737985757334724, -0.2280227322155696, 0.02460383196677438, 0.06148619395386828, 0.10006409831836899, 0.15205703327313297, -0.0898819631684546, 0.12992073145568864]\n",
      "[0.037933776545071705, -0.037933776545071705, -0.27637114328432105, 0.27637114328432105, 0.23970660533597085, 0.028623052558015828, -0.02862305255859232, -0.1403771022052074, 0.1403771022059963, -0.13457887361337018, 0.13457887361360868, -0.017673975426403265, 0.17298297616351554, -0.1010396769885656, 0.18737985757334724, -0.2280227322155696, 0.02460383196677438, 0.06148619395386828, 0.10006409831836899, 0.15205703327313297, -0.0898819631684546, 0.12992073145568864, -0.23434267085101337]\n",
      "[0.037933776545071705, -0.037933776545071705, -0.27637114328432105, 0.27637114328432105, 0.23970660533597085, 0.028623052558015828, -0.02862305255859232, -0.1403771022052074, 0.1403771022059963, -0.13457887361337018, 0.13457887361360868, -0.017673975426403265, 0.17298297616351554, -0.1010396769885656, 0.18737985757334724, -0.2280227322155696, 0.02460383196677438, 0.06148619395386828, 0.10006409831836899, 0.15205703327313297, -0.0898819631684546, 0.12992073145568864, -0.23434267085101337, 0.04439876331088488]\n",
      "[0.037933776545071705, -0.037933776545071705, -0.27637114328432105, 0.27637114328432105, 0.23970660533597085, 0.028623052558015828, -0.02862305255859232, -0.1403771022052074, 0.1403771022059963, -0.13457887361337018, 0.13457887361360868, -0.017673975426403265, 0.17298297616351554, -0.1010396769885656, 0.18737985757334724, -0.2280227322155696, 0.02460383196677438, 0.06148619395386828, 0.10006409831836899, 0.15205703327313297, -0.0898819631684546, 0.12992073145568864, -0.23434267085101337, 0.04439876331088488, 0.3155328300117487]\n",
      "[0.037933776545071705, -0.037933776545071705, -0.27637114328432105, 0.27637114328432105, 0.23970660533597085, 0.028623052558015828, -0.02862305255859232, -0.1403771022052074, 0.1403771022059963, -0.13457887361337018, 0.13457887361360868, -0.017673975426403265, 0.17298297616351554, -0.1010396769885656, 0.18737985757334724, -0.2280227322155696, 0.02460383196677438, 0.06148619395386828, 0.10006409831836899, 0.15205703327313297, -0.0898819631684546, 0.12992073145568864, -0.23434267085101337, 0.04439876331088488, 0.3155328300117487, 0.10007159950074973]\n",
      "[0.037933776545071705, -0.037933776545071705, -0.27637114328432105, 0.27637114328432105, 0.23970660533597085, 0.028623052558015828, -0.02862305255859232, -0.1403771022052074, 0.1403771022059963, -0.13457887361337018, 0.13457887361360868, -0.017673975426403265, 0.17298297616351554, -0.1010396769885656, 0.18737985757334724, -0.2280227322155696, 0.02460383196677438, 0.06148619395386828, 0.10006409831836899, 0.15205703327313297, -0.0898819631684546, 0.12992073145568864, -0.23434267085101337, 0.04439876331088488, 0.3155328300117487, 0.10007159950074973, -0.2985456619825648]\n",
      "[0.037933776545071705, -0.037933776545071705, -0.27637114328432105, 0.27637114328432105, 0.23970660533597085, 0.028623052558015828, -0.02862305255859232, -0.1403771022052074, 0.1403771022059963, -0.13457887361337018, 0.13457887361360868, -0.017673975426403265, 0.17298297616351554, -0.1010396769885656, 0.18737985757334724, -0.2280227322155696, 0.02460383196677438, 0.06148619395386828, 0.10006409831836899, 0.15205703327313297, -0.0898819631684546, 0.12992073145568864, -0.23434267085101337, 0.04439876331088488, 0.3155328300117487, 0.10007159950074973, -0.2985456619825648, 0.06831822750569351]\n",
      "[0.037933776545071705, -0.037933776545071705, -0.27637114328432105, 0.27637114328432105, 0.23970660533597085, 0.028623052558015828, -0.02862305255859232, -0.1403771022052074, 0.1403771022059963, -0.13457887361337018, 0.13457887361360868, -0.017673975426403265, 0.17298297616351554, -0.1010396769885656, 0.18737985757334724, -0.2280227322155696, 0.02460383196677438, 0.06148619395386828, 0.10006409831836899, 0.15205703327313297, -0.0898819631684546, 0.12992073145568864, -0.23434267085101337, 0.04439876331088488, 0.3155328300117487, 0.10007159950074973, -0.2985456619825648, 0.06831822750569351, 0.08205830366634063]\n",
      "[0.037933776545071705, -0.037933776545071705, -0.27637114328432105, 0.27637114328432105, 0.23970660533597085, 0.028623052558015828, -0.02862305255859232, -0.1403771022052074, 0.1403771022059963, -0.13457887361337018, 0.13457887361360868, -0.017673975426403265, 0.17298297616351554, -0.1010396769885656, 0.18737985757334724, -0.2280227322155696, 0.02460383196677438, 0.06148619395386828, 0.10006409831836899, 0.15205703327313297, -0.0898819631684546, 0.12992073145568864, -0.23434267085101337, 0.04439876331088488, 0.3155328300117487, 0.10007159950074973, -0.2985456619825648, 0.06831822750569351, 0.08205830366634063, -0.17513180215269972]\n",
      "[0.037933776545071705, -0.037933776545071705, -0.27637114328432105, 0.27637114328432105, 0.23970660533597085, 0.028623052558015828, -0.02862305255859232, -0.1403771022052074, 0.1403771022059963, -0.13457887361337018, 0.13457887361360868, -0.017673975426403265, 0.17298297616351554, -0.1010396769885656, 0.18737985757334724, -0.2280227322155696, 0.02460383196677438, 0.06148619395386828, 0.10006409831836899, 0.15205703327313297, -0.0898819631684546, 0.12992073145568864, -0.23434267085101337, 0.04439876331088488, 0.3155328300117487, 0.10007159950074973, -0.2985456619825648, 0.06831822750569351, 0.08205830366634063, -0.17513180215269972, 0.04964659162279869]\n",
      "[0.037933776545071705, -0.037933776545071705, -0.27637114328432105, 0.27637114328432105, 0.23970660533597085, 0.028623052558015828, -0.02862305255859232, -0.1403771022052074, 0.1403771022059963, -0.13457887361337018, 0.13457887361360868, -0.017673975426403265, 0.17298297616351554, -0.1010396769885656, 0.18737985757334724, -0.2280227322155696, 0.02460383196677438, 0.06148619395386828, 0.10006409831836899, 0.15205703327313297, -0.0898819631684546, 0.12992073145568864, -0.23434267085101337, 0.04439876331088488, 0.3155328300117487, 0.10007159950074973, -0.2985456619825648, 0.06831822750569351, 0.08205830366634063, -0.17513180215269972, 0.04964659162279869, -0.06897475436461938]\n",
      "[0.037933776545071705, -0.037933776545071705, -0.27637114328432105, 0.27637114328432105, 0.23970660533597085, 0.028623052558015828, -0.02862305255859232, -0.1403771022052074, 0.1403771022059963, -0.13457887361337018, 0.13457887361360868, -0.017673975426403265, 0.17298297616351554, -0.1010396769885656, 0.18737985757334724, -0.2280227322155696, 0.02460383196677438, 0.06148619395386828, 0.10006409831836899, 0.15205703327313297, -0.0898819631684546, 0.12992073145568864, -0.23434267085101337, 0.04439876331088488, 0.3155328300117487, 0.10007159950074973, -0.2985456619825648, 0.06831822750569351, 0.08205830366634063, -0.17513180215269972, 0.04964659162279869, -0.06897475436461938, 0.04317070794108046]\n",
      "[0.037933776545071705, -0.037933776545071705, -0.27637114328432105, 0.27637114328432105, 0.23970660533597085, 0.028623052558015828, -0.02862305255859232, -0.1403771022052074, 0.1403771022059963, -0.13457887361337018, 0.13457887361360868, -0.017673975426403265, 0.17298297616351554, -0.1010396769885656, 0.18737985757334724, -0.2280227322155696, 0.02460383196677438, 0.06148619395386828, 0.10006409831836899, 0.15205703327313297, -0.0898819631684546, 0.12992073145568864, -0.23434267085101337, 0.04439876331088488, 0.3155328300117487, 0.10007159950074973, -0.2985456619825648, 0.06831822750569351, 0.08205830366634063, -0.17513180215269972, 0.04964659162279869, -0.06897475436461938, 0.04317070794108046, 0.020129277434840793]\n",
      "[0.037933776545071705, -0.037933776545071705, -0.27637114328432105, 0.27637114328432105, 0.23970660533597085, 0.028623052558015828, -0.02862305255859232, -0.1403771022052074, 0.1403771022059963, -0.13457887361337018, 0.13457887361360868, -0.017673975426403265, 0.17298297616351554, -0.1010396769885656, 0.18737985757334724, -0.2280227322155696, 0.02460383196677438, 0.06148619395386828, 0.10006409831836899, 0.15205703327313297, -0.0898819631684546, 0.12992073145568864, -0.23434267085101337, 0.04439876331088488, 0.3155328300117487, 0.10007159950074973, -0.2985456619825648, 0.06831822750569351, 0.08205830366634063, -0.17513180215269972, 0.04964659162279869, -0.06897475436461938, 0.04317070794108046, 0.020129277434840793, 0.04485623639953481]\n",
      "[0.037933776545071705, -0.037933776545071705, -0.27637114328432105, 0.27637114328432105, 0.23970660533597085, 0.028623052558015828, -0.02862305255859232, -0.1403771022052074, 0.1403771022059963, -0.13457887361337018, 0.13457887361360868, -0.017673975426403265, 0.17298297616351554, -0.1010396769885656, 0.18737985757334724, -0.2280227322155696, 0.02460383196677438, 0.06148619395386828, 0.10006409831836899, 0.15205703327313297, -0.0898819631684546, 0.12992073145568864, -0.23434267085101337, 0.04439876331088488, 0.3155328300117487, 0.10007159950074973, -0.2985456619825648, 0.06831822750569351, 0.08205830366634063, -0.17513180215269972, 0.04964659162279869, -0.06897475436461938, 0.04317070794108046, 0.020129277434840793, 0.04485623639953481, -0.13782984030433243]\n",
      "[0.037933776545071705, -0.037933776545071705, -0.27637114328432105, 0.27637114328432105, 0.23970660533597085, 0.028623052558015828, -0.02862305255859232, -0.1403771022052074, 0.1403771022059963, -0.13457887361337018, 0.13457887361360868, -0.017673975426403265, 0.17298297616351554, -0.1010396769885656, 0.18737985757334724, -0.2280227322155696, 0.02460383196677438, 0.06148619395386828, 0.10006409831836899, 0.15205703327313297, -0.0898819631684546, 0.12992073145568864, -0.23434267085101337, 0.04439876331088488, 0.3155328300117487, 0.10007159950074973, -0.2985456619825648, 0.06831822750569351, 0.08205830366634063, -0.17513180215269972, 0.04964659162279869, -0.06897475436461938, 0.04317070794108046, 0.020129277434840793, 0.04485623639953481, -0.13782984030433243, 0.04528973801800339]\n",
      "[0.037933776545071705, -0.037933776545071705, -0.27637114328432105, 0.27637114328432105, 0.23970660533597085, 0.028623052558015828, -0.02862305255859232, -0.1403771022052074, 0.1403771022059963, -0.13457887361337018, 0.13457887361360868, -0.017673975426403265, 0.17298297616351554, -0.1010396769885656, 0.18737985757334724, -0.2280227322155696, 0.02460383196677438, 0.06148619395386828, 0.10006409831836899, 0.15205703327313297, -0.0898819631684546, 0.12992073145568864, -0.23434267085101337, 0.04439876331088488, 0.3155328300117487, 0.10007159950074973, -0.2985456619825648, 0.06831822750569351, 0.08205830366634063, -0.17513180215269972, 0.04964659162279869, -0.06897475436461938, 0.04317070794108046, 0.020129277434840793, 0.04485623639953481, -0.13782984030433243, 0.04528973801800339, 0.17407052685995317]\n",
      "[0.037933776545071705, -0.037933776545071705, -0.27637114328432105, 0.27637114328432105, 0.23970660533597085, 0.028623052558015828, -0.02862305255859232, -0.1403771022052074, 0.1403771022059963, -0.13457887361337018, 0.13457887361360868, -0.017673975426403265, 0.17298297616351554, -0.1010396769885656, 0.18737985757334724, -0.2280227322155696, 0.02460383196677438, 0.06148619395386828, 0.10006409831836899, 0.15205703327313297, -0.0898819631684546, 0.12992073145568864, -0.23434267085101337, 0.04439876331088488, 0.3155328300117487, 0.10007159950074973, -0.2985456619825648, 0.06831822750569351, 0.08205830366634063, -0.17513180215269972, 0.04964659162279869, -0.06897475436461938, 0.04317070794108046, 0.020129277434840793, 0.04485623639953481, -0.13782984030433243, 0.04528973801800339, 0.17407052685995317, -0.1725594174089823]\n",
      "[0.037933776545071705, -0.037933776545071705, -0.27637114328432105, 0.27637114328432105, 0.23970660533597085, 0.028623052558015828, -0.02862305255859232, -0.1403771022052074, 0.1403771022059963, -0.13457887361337018, 0.13457887361360868, -0.017673975426403265, 0.17298297616351554, -0.1010396769885656, 0.18737985757334724, -0.2280227322155696, 0.02460383196677438, 0.06148619395386828, 0.10006409831836899, 0.15205703327313297, -0.0898819631684546, 0.12992073145568864, -0.23434267085101337, 0.04439876331088488, 0.3155328300117487, 0.10007159950074973, -0.2985456619825648, 0.06831822750569351, 0.08205830366634063, -0.17513180215269972, 0.04964659162279869, -0.06897475436461938, 0.04317070794108046, 0.020129277434840793, 0.04485623639953481, -0.13782984030433243, 0.04528973801800339, 0.17407052685995317, -0.1725594174089823, 0.10543026106492054]\n",
      "[0.037933776545071705, -0.037933776545071705, -0.27637114328432105, 0.27637114328432105, 0.23970660533597085, 0.028623052558015828, -0.02862305255859232, -0.1403771022052074, 0.1403771022059963, -0.13457887361337018, 0.13457887361360868, -0.017673975426403265, 0.17298297616351554, -0.1010396769885656, 0.18737985757334724, -0.2280227322155696, 0.02460383196677438, 0.06148619395386828, 0.10006409831836899, 0.15205703327313297, -0.0898819631684546, 0.12992073145568864, -0.23434267085101337, 0.04439876331088488, 0.3155328300117487, 0.10007159950074973, -0.2985456619825648, 0.06831822750569351, 0.08205830366634063, -0.17513180215269972, 0.04964659162279869, -0.06897475436461938, 0.04317070794108046, 0.020129277434840793, 0.04485623639953481, -0.13782984030433243, 0.04528973801800339, 0.17407052685995317, -0.1725594174089823, 0.10543026106492054, -0.14655685796041848]\n",
      "[0.037933776545071705, -0.037933776545071705, -0.27637114328432105, 0.27637114328432105, 0.23970660533597085, 0.028623052558015828, -0.02862305255859232, -0.1403771022052074, 0.1403771022059963, -0.13457887361337018, 0.13457887361360868, -0.017673975426403265, 0.17298297616351554, -0.1010396769885656, 0.18737985757334724, -0.2280227322155696, 0.02460383196677438, 0.06148619395386828, 0.10006409831836899, 0.15205703327313297, -0.0898819631684546, 0.12992073145568864, -0.23434267085101337, 0.04439876331088488, 0.3155328300117487, 0.10007159950074973, -0.2985456619825648, 0.06831822750569351, 0.08205830366634063, -0.17513180215269972, 0.04964659162279869, -0.06897475436461938, 0.04317070794108046, 0.020129277434840793, 0.04485623639953481, -0.13782984030433243, 0.04528973801800339, 0.17407052685995317, -0.1725594174089823, 0.10543026106492054, -0.14655685796041848, 0.43395687944353656]\n",
      "[0.037933776545071705, -0.037933776545071705, -0.27637114328432105, 0.27637114328432105, 0.23970660533597085, 0.028623052558015828, -0.02862305255859232, -0.1403771022052074, 0.1403771022059963, -0.13457887361337018, 0.13457887361360868, -0.017673975426403265, 0.17298297616351554, -0.1010396769885656, 0.18737985757334724, -0.2280227322155696, 0.02460383196677438, 0.06148619395386828, 0.10006409831836899, 0.15205703327313297, -0.0898819631684546, 0.12992073145568864, -0.23434267085101337, 0.04439876331088488, 0.3155328300117487, 0.10007159950074973, -0.2985456619825648, 0.06831822750569351, 0.08205830366634063, -0.17513180215269972, 0.04964659162279869, -0.06897475436461938, 0.04317070794108046, 0.020129277434840793, 0.04485623639953481, -0.13782984030433243, 0.04528973801800339, 0.17407052685995317, -0.1725594174089823, 0.10543026106492054, -0.14655685796041848, 0.43395687944353656, 0.06704965945134116]\n",
      "[0.037933776545071705, -0.037933776545071705, -0.27637114328432105, 0.27637114328432105, 0.23970660533597085, 0.028623052558015828, -0.02862305255859232, -0.1403771022052074, 0.1403771022059963, -0.13457887361337018, 0.13457887361360868, -0.017673975426403265, 0.17298297616351554, -0.1010396769885656, 0.18737985757334724, -0.2280227322155696, 0.02460383196677438, 0.06148619395386828, 0.10006409831836899, 0.15205703327313297, -0.0898819631684546, 0.12992073145568864, -0.23434267085101337, 0.04439876331088488, 0.3155328300117487, 0.10007159950074973, -0.2985456619825648, 0.06831822750569351, 0.08205830366634063, -0.17513180215269972, 0.04964659162279869, -0.06897475436461938, 0.04317070794108046, 0.020129277434840793, 0.04485623639953481, -0.13782984030433243, 0.04528973801800339, 0.17407052685995317, -0.1725594174089823, 0.10543026106492054, -0.14655685796041848, 0.43395687944353656, 0.06704965945134116, 0.10916135680086843]\n",
      "[0.037933776545071705, -0.037933776545071705, -0.27637114328432105, 0.27637114328432105, 0.23970660533597085, 0.028623052558015828, -0.02862305255859232, -0.1403771022052074, 0.1403771022059963, -0.13457887361337018, 0.13457887361360868, -0.017673975426403265, 0.17298297616351554, -0.1010396769885656, 0.18737985757334724, -0.2280227322155696, 0.02460383196677438, 0.06148619395386828, 0.10006409831836899, 0.15205703327313297, -0.0898819631684546, 0.12992073145568864, -0.23434267085101337, 0.04439876331088488, 0.3155328300117487, 0.10007159950074973, -0.2985456619825648, 0.06831822750569351, 0.08205830366634063, -0.17513180215269972, 0.04964659162279869, -0.06897475436461938, 0.04317070794108046, 0.020129277434840793, 0.04485623639953481, -0.13782984030433243, 0.04528973801800339, 0.17407052685995317, -0.1725594174089823, 0.10543026106492054, -0.14655685796041848, 0.43395687944353656, 0.06704965945134116, 0.10916135680086843, 0.013695861675716773]\n",
      "[0.037933776545071705, -0.037933776545071705, -0.27637114328432105, 0.27637114328432105, 0.23970660533597085, 0.028623052558015828, -0.02862305255859232, -0.1403771022052074, 0.1403771022059963, -0.13457887361337018, 0.13457887361360868, -0.017673975426403265, 0.17298297616351554, -0.1010396769885656, 0.18737985757334724, -0.2280227322155696, 0.02460383196677438, 0.06148619395386828, 0.10006409831836899, 0.15205703327313297, -0.0898819631684546, 0.12992073145568864, -0.23434267085101337, 0.04439876331088488, 0.3155328300117487, 0.10007159950074973, -0.2985456619825648, 0.06831822750569351, 0.08205830366634063, -0.17513180215269972, 0.04964659162279869, -0.06897475436461938, 0.04317070794108046, 0.020129277434840793, 0.04485623639953481, -0.13782984030433243, 0.04528973801800339, 0.17407052685995317, -0.1725594174089823, 0.10543026106492054, -0.14655685796041848, 0.43395687944353656, 0.06704965945134116, 0.10916135680086843, 0.013695861675716773, -0.3100402080549638]\n",
      "[0.037933776545071705, -0.037933776545071705, -0.27637114328432105, 0.27637114328432105, 0.23970660533597085, 0.028623052558015828, -0.02862305255859232, -0.1403771022052074, 0.1403771022059963, -0.13457887361337018, 0.13457887361360868, -0.017673975426403265, 0.17298297616351554, -0.1010396769885656, 0.18737985757334724, -0.2280227322155696, 0.02460383196677438, 0.06148619395386828, 0.10006409831836899, 0.15205703327313297, -0.0898819631684546, 0.12992073145568864, -0.23434267085101337, 0.04439876331088488, 0.3155328300117487, 0.10007159950074973, -0.2985456619825648, 0.06831822750569351, 0.08205830366634063, -0.17513180215269972, 0.04964659162279869, -0.06897475436461938, 0.04317070794108046, 0.020129277434840793, 0.04485623639953481, -0.13782984030433243, 0.04528973801800339, 0.17407052685995317, -0.1725594174089823, 0.10543026106492054, -0.14655685796041848, 0.43395687944353656, 0.06704965945134116, 0.10916135680086843, 0.013695861675716773, -0.3100402080549638, -0.051577363174336116]\n",
      "[0.037933776545071705, -0.037933776545071705, -0.27637114328432105, 0.27637114328432105, 0.23970660533597085, 0.028623052558015828, -0.02862305255859232, -0.1403771022052074, 0.1403771022059963, -0.13457887361337018, 0.13457887361360868, -0.017673975426403265, 0.17298297616351554, -0.1010396769885656, 0.18737985757334724, -0.2280227322155696, 0.02460383196677438, 0.06148619395386828, 0.10006409831836899, 0.15205703327313297, -0.0898819631684546, 0.12992073145568864, -0.23434267085101337, 0.04439876331088488, 0.3155328300117487, 0.10007159950074973, -0.2985456619825648, 0.06831822750569351, 0.08205830366634063, -0.17513180215269972, 0.04964659162279869, -0.06897475436461938, 0.04317070794108046, 0.020129277434840793, 0.04485623639953481, -0.13782984030433243, 0.04528973801800339, 0.17407052685995317, -0.1725594174089823, 0.10543026106492054, -0.14655685796041848, 0.43395687944353656, 0.06704965945134116, 0.10916135680086843, 0.013695861675716773, -0.3100402080549638, -0.051577363174336116, 0.11002732275480999]\n",
      "[0.037933776545071705, -0.037933776545071705, -0.27637114328432105, 0.27637114328432105, 0.23970660533597085, 0.028623052558015828, -0.02862305255859232, -0.1403771022052074, 0.1403771022059963, -0.13457887361337018, 0.13457887361360868, -0.017673975426403265, 0.17298297616351554, -0.1010396769885656, 0.18737985757334724, -0.2280227322155696, 0.02460383196677438, 0.06148619395386828, 0.10006409831836899, 0.15205703327313297, -0.0898819631684546, 0.12992073145568864, -0.23434267085101337, 0.04439876331088488, 0.3155328300117487, 0.10007159950074973, -0.2985456619825648, 0.06831822750569351, 0.08205830366634063, -0.17513180215269972, 0.04964659162279869, -0.06897475436461938, 0.04317070794108046, 0.020129277434840793, 0.04485623639953481, -0.13782984030433243, 0.04528973801800339, 0.17407052685995317, -0.1725594174089823, 0.10543026106492054, -0.14655685796041848, 0.43395687944353656, 0.06704965945134116, 0.10916135680086843, 0.013695861675716773, -0.3100402080549638, -0.051577363174336116, 0.11002732275480999, -0.018977875244733603]\n",
      "[0.037933776545071705, -0.037933776545071705, -0.27637114328432105, 0.27637114328432105, 0.23970660533597085, 0.028623052558015828, -0.02862305255859232, -0.1403771022052074, 0.1403771022059963, -0.13457887361337018, 0.13457887361360868, -0.017673975426403265, 0.17298297616351554, -0.1010396769885656, 0.18737985757334724, -0.2280227322155696, 0.02460383196677438, 0.06148619395386828, 0.10006409831836899, 0.15205703327313297, -0.0898819631684546, 0.12992073145568864, -0.23434267085101337, 0.04439876331088488, 0.3155328300117487, 0.10007159950074973, -0.2985456619825648, 0.06831822750569351, 0.08205830366634063, -0.17513180215269972, 0.04964659162279869, -0.06897475436461938, 0.04317070794108046, 0.020129277434840793, 0.04485623639953481, -0.13782984030433243, 0.04528973801800339, 0.17407052685995317, -0.1725594174089823, 0.10543026106492054, -0.14655685796041848, 0.43395687944353656, 0.06704965945134116, 0.10916135680086843, 0.013695861675716773, -0.3100402080549638, -0.051577363174336116, 0.11002732275480999, -0.018977875244733603, 0.031418527528298074]\n",
      "[0.037933776545071705, -0.037933776545071705, -0.27637114328432105, 0.27637114328432105, 0.23970660533597085, 0.028623052558015828, -0.02862305255859232, -0.1403771022052074, 0.1403771022059963, -0.13457887361337018, 0.13457887361360868, -0.017673975426403265, 0.17298297616351554, -0.1010396769885656, 0.18737985757334724, -0.2280227322155696, 0.02460383196677438, 0.06148619395386828, 0.10006409831836899, 0.15205703327313297, -0.0898819631684546, 0.12992073145568864, -0.23434267085101337, 0.04439876331088488, 0.3155328300117487, 0.10007159950074973, -0.2985456619825648, 0.06831822750569351, 0.08205830366634063, -0.17513180215269972, 0.04964659162279869, -0.06897475436461938, 0.04317070794108046, 0.020129277434840793, 0.04485623639953481, -0.13782984030433243, 0.04528973801800339, 0.17407052685995317, -0.1725594174089823, 0.10543026106492054, -0.14655685796041848, 0.43395687944353656, 0.06704965945134116, 0.10916135680086843, 0.013695861675716773, -0.3100402080549638, -0.051577363174336116, 0.11002732275480999, -0.018977875244733603, 0.031418527528298074, -0.10611657955725273]\n",
      "[0.037933776545071705, -0.037933776545071705, -0.27637114328432105, 0.27637114328432105, 0.23970660533597085, 0.028623052558015828, -0.02862305255859232, -0.1403771022052074, 0.1403771022059963, -0.13457887361337018, 0.13457887361360868, -0.017673975426403265, 0.17298297616351554, -0.1010396769885656, 0.18737985757334724, -0.2280227322155696, 0.02460383196677438, 0.06148619395386828, 0.10006409831836899, 0.15205703327313297, -0.0898819631684546, 0.12992073145568864, -0.23434267085101337, 0.04439876331088488, 0.3155328300117487, 0.10007159950074973, -0.2985456619825648, 0.06831822750569351, 0.08205830366634063, -0.17513180215269972, 0.04964659162279869, -0.06897475436461938, 0.04317070794108046, 0.020129277434840793, 0.04485623639953481, -0.13782984030433243, 0.04528973801800339, 0.17407052685995317, -0.1725594174089823, 0.10543026106492054, -0.14655685796041848, 0.43395687944353656, 0.06704965945134116, 0.10916135680086843, 0.013695861675716773, -0.3100402080549638, -0.051577363174336116, 0.11002732275480999, -0.018977875244733603, 0.031418527528298074, -0.10611657955725273, -0.3907211446796236]\n",
      "[0.037933776545071705, -0.037933776545071705, -0.27637114328432105, 0.27637114328432105, 0.23970660533597085, 0.028623052558015828, -0.02862305255859232, -0.1403771022052074, 0.1403771022059963, -0.13457887361337018, 0.13457887361360868, -0.017673975426403265, 0.17298297616351554, -0.1010396769885656, 0.18737985757334724, -0.2280227322155696, 0.02460383196677438, 0.06148619395386828, 0.10006409831836899, 0.15205703327313297, -0.0898819631684546, 0.12992073145568864, -0.23434267085101337, 0.04439876331088488, 0.3155328300117487, 0.10007159950074973, -0.2985456619825648, 0.06831822750569351, 0.08205830366634063, -0.17513180215269972, 0.04964659162279869, -0.06897475436461938, 0.04317070794108046, 0.020129277434840793, 0.04485623639953481, -0.13782984030433243, 0.04528973801800339, 0.17407052685995317, -0.1725594174089823, 0.10543026106492054, -0.14655685796041848, 0.43395687944353656, 0.06704965945134116, 0.10916135680086843, 0.013695861675716773, -0.3100402080549638, -0.051577363174336116, 0.11002732275480999, -0.018977875244733603, 0.031418527528298074, -0.10611657955725273, -0.3907211446796236, -0.3968222337953397]\n",
      "[0.037933776545071705, -0.037933776545071705, -0.27637114328432105, 0.27637114328432105, 0.23970660533597085, 0.028623052558015828, -0.02862305255859232, -0.1403771022052074, 0.1403771022059963, -0.13457887361337018, 0.13457887361360868, -0.017673975426403265, 0.17298297616351554, -0.1010396769885656, 0.18737985757334724, -0.2280227322155696, 0.02460383196677438, 0.06148619395386828, 0.10006409831836899, 0.15205703327313297, -0.0898819631684546, 0.12992073145568864, -0.23434267085101337, 0.04439876331088488, 0.3155328300117487, 0.10007159950074973, -0.2985456619825648, 0.06831822750569351, 0.08205830366634063, -0.17513180215269972, 0.04964659162279869, -0.06897475436461938, 0.04317070794108046, 0.020129277434840793, 0.04485623639953481, -0.13782984030433243, 0.04528973801800339, 0.17407052685995317, -0.1725594174089823, 0.10543026106492054, -0.14655685796041848, 0.43395687944353656, 0.06704965945134116, 0.10916135680086843, 0.013695861675716773, -0.3100402080549638, -0.051577363174336116, 0.11002732275480999, -0.018977875244733603, 0.031418527528298074, -0.10611657955725273, -0.3907211446796236, -0.3968222337953397, 0.028433067444849493]\n",
      "[0.037933776545071705, -0.037933776545071705, -0.27637114328432105, 0.27637114328432105, 0.23970660533597085, 0.028623052558015828, -0.02862305255859232, -0.1403771022052074, 0.1403771022059963, -0.13457887361337018, 0.13457887361360868, -0.017673975426403265, 0.17298297616351554, -0.1010396769885656, 0.18737985757334724, -0.2280227322155696, 0.02460383196677438, 0.06148619395386828, 0.10006409831836899, 0.15205703327313297, -0.0898819631684546, 0.12992073145568864, -0.23434267085101337, 0.04439876331088488, 0.3155328300117487, 0.10007159950074973, -0.2985456619825648, 0.06831822750569351, 0.08205830366634063, -0.17513180215269972, 0.04964659162279869, -0.06897475436461938, 0.04317070794108046, 0.020129277434840793, 0.04485623639953481, -0.13782984030433243, 0.04528973801800339, 0.17407052685995317, -0.1725594174089823, 0.10543026106492054, -0.14655685796041848, 0.43395687944353656, 0.06704965945134116, 0.10916135680086843, 0.013695861675716773, -0.3100402080549638, -0.051577363174336116, 0.11002732275480999, -0.018977875244733603, 0.031418527528298074, -0.10611657955725273, -0.3907211446796236, -0.3968222337953397, 0.028433067444849493, 0.284569254467249]\n",
      "[0.037933776545071705, -0.037933776545071705, -0.27637114328432105, 0.27637114328432105, 0.23970660533597085, 0.028623052558015828, -0.02862305255859232, -0.1403771022052074, 0.1403771022059963, -0.13457887361337018, 0.13457887361360868, -0.017673975426403265, 0.17298297616351554, -0.1010396769885656, 0.18737985757334724, -0.2280227322155696, 0.02460383196677438, 0.06148619395386828, 0.10006409831836899, 0.15205703327313297, -0.0898819631684546, 0.12992073145568864, -0.23434267085101337, 0.04439876331088488, 0.3155328300117487, 0.10007159950074973, -0.2985456619825648, 0.06831822750569351, 0.08205830366634063, -0.17513180215269972, 0.04964659162279869, -0.06897475436461938, 0.04317070794108046, 0.020129277434840793, 0.04485623639953481, -0.13782984030433243, 0.04528973801800339, 0.17407052685995317, -0.1725594174089823, 0.10543026106492054, -0.14655685796041848, 0.43395687944353656, 0.06704965945134116, 0.10916135680086843, 0.013695861675716773, -0.3100402080549638, -0.051577363174336116, 0.11002732275480999, -0.018977875244733603, 0.031418527528298074, -0.10611657955725273, -0.3907211446796236, -0.3968222337953397, 0.028433067444849493, 0.284569254467249, 0.36509298692063535]\n",
      "[0.037933776545071705, -0.037933776545071705, -0.27637114328432105, 0.27637114328432105, 0.23970660533597085, 0.028623052558015828, -0.02862305255859232, -0.1403771022052074, 0.1403771022059963, -0.13457887361337018, 0.13457887361360868, -0.017673975426403265, 0.17298297616351554, -0.1010396769885656, 0.18737985757334724, -0.2280227322155696, 0.02460383196677438, 0.06148619395386828, 0.10006409831836899, 0.15205703327313297, -0.0898819631684546, 0.12992073145568864, -0.23434267085101337, 0.04439876331088488, 0.3155328300117487, 0.10007159950074973, -0.2985456619825648, 0.06831822750569351, 0.08205830366634063, -0.17513180215269972, 0.04964659162279869, -0.06897475436461938, 0.04317070794108046, 0.020129277434840793, 0.04485623639953481, -0.13782984030433243, 0.04528973801800339, 0.17407052685995317, -0.1725594174089823, 0.10543026106492054, -0.14655685796041848, 0.43395687944353656, 0.06704965945134116, 0.10916135680086843, 0.013695861675716773, -0.3100402080549638, -0.051577363174336116, 0.11002732275480999, -0.018977875244733603, 0.031418527528298074, -0.10611657955725273, -0.3907211446796236, -0.3968222337953397, 0.028433067444849493, 0.284569254467249, 0.36509298692063535, -0.07834110874940518]\n",
      "[0.037933776545071705, -0.037933776545071705, -0.27637114328432105, 0.27637114328432105, 0.23970660533597085, 0.028623052558015828, -0.02862305255859232, -0.1403771022052074, 0.1403771022059963, -0.13457887361337018, 0.13457887361360868, -0.017673975426403265, 0.17298297616351554, -0.1010396769885656, 0.18737985757334724, -0.2280227322155696, 0.02460383196677438, 0.06148619395386828, 0.10006409831836899, 0.15205703327313297, -0.0898819631684546, 0.12992073145568864, -0.23434267085101337, 0.04439876331088488, 0.3155328300117487, 0.10007159950074973, -0.2985456619825648, 0.06831822750569351, 0.08205830366634063, -0.17513180215269972, 0.04964659162279869, -0.06897475436461938, 0.04317070794108046, 0.020129277434840793, 0.04485623639953481, -0.13782984030433243, 0.04528973801800339, 0.17407052685995317, -0.1725594174089823, 0.10543026106492054, -0.14655685796041848, 0.43395687944353656, 0.06704965945134116, 0.10916135680086843, 0.013695861675716773, -0.3100402080549638, -0.051577363174336116, 0.11002732275480999, -0.018977875244733603, 0.031418527528298074, -0.10611657955725273, -0.3907211446796236, -0.3968222337953397, 0.028433067444849493, 0.284569254467249, 0.36509298692063535, -0.07834110874940518, 0.04100620793233713]\n",
      "[0.037933776545071705, -0.037933776545071705, -0.27637114328432105, 0.27637114328432105, 0.23970660533597085, 0.028623052558015828, -0.02862305255859232, -0.1403771022052074, 0.1403771022059963, -0.13457887361337018, 0.13457887361360868, -0.017673975426403265, 0.17298297616351554, -0.1010396769885656, 0.18737985757334724, -0.2280227322155696, 0.02460383196677438, 0.06148619395386828, 0.10006409831836899, 0.15205703327313297, -0.0898819631684546, 0.12992073145568864, -0.23434267085101337, 0.04439876331088488, 0.3155328300117487, 0.10007159950074973, -0.2985456619825648, 0.06831822750569351, 0.08205830366634063, -0.17513180215269972, 0.04964659162279869, -0.06897475436461938, 0.04317070794108046, 0.020129277434840793, 0.04485623639953481, -0.13782984030433243, 0.04528973801800339, 0.17407052685995317, -0.1725594174089823, 0.10543026106492054, -0.14655685796041848, 0.43395687944353656, 0.06704965945134116, 0.10916135680086843, 0.013695861675716773, -0.3100402080549638, -0.051577363174336116, 0.11002732275480999, -0.018977875244733603, 0.031418527528298074, -0.10611657955725273, -0.3907211446796236, -0.3968222337953397, 0.028433067444849493, 0.284569254467249, 0.36509298692063535, -0.07834110874940518, 0.04100620793233713, -0.10458075696262054]\n",
      "[0.037933776545071705, -0.037933776545071705, -0.27637114328432105, 0.27637114328432105, 0.23970660533597085, 0.028623052558015828, -0.02862305255859232, -0.1403771022052074, 0.1403771022059963, -0.13457887361337018, 0.13457887361360868, -0.017673975426403265, 0.17298297616351554, -0.1010396769885656, 0.18737985757334724, -0.2280227322155696, 0.02460383196677438, 0.06148619395386828, 0.10006409831836899, 0.15205703327313297, -0.0898819631684546, 0.12992073145568864, -0.23434267085101337, 0.04439876331088488, 0.3155328300117487, 0.10007159950074973, -0.2985456619825648, 0.06831822750569351, 0.08205830366634063, -0.17513180215269972, 0.04964659162279869, -0.06897475436461938, 0.04317070794108046, 0.020129277434840793, 0.04485623639953481, -0.13782984030433243, 0.04528973801800339, 0.17407052685995317, -0.1725594174089823, 0.10543026106492054, -0.14655685796041848, 0.43395687944353656, 0.06704965945134116, 0.10916135680086843, 0.013695861675716773, -0.3100402080549638, -0.051577363174336116, 0.11002732275480999, -0.018977875244733603, 0.031418527528298074, -0.10611657955725273, -0.3907211446796236, -0.3968222337953397, 0.028433067444849493, 0.284569254467249, 0.36509298692063535, -0.07834110874940518, 0.04100620793233713, -0.10458075696262054, 0.027718922948841835]\n",
      "[0.037933776545071705, -0.037933776545071705, -0.27637114328432105, 0.27637114328432105, 0.23970660533597085, 0.028623052558015828, -0.02862305255859232, -0.1403771022052074, 0.1403771022059963, -0.13457887361337018, 0.13457887361360868, -0.017673975426403265, 0.17298297616351554, -0.1010396769885656, 0.18737985757334724, -0.2280227322155696, 0.02460383196677438, 0.06148619395386828, 0.10006409831836899, 0.15205703327313297, -0.0898819631684546, 0.12992073145568864, -0.23434267085101337, 0.04439876331088488, 0.3155328300117487, 0.10007159950074973, -0.2985456619825648, 0.06831822750569351, 0.08205830366634063, -0.17513180215269972, 0.04964659162279869, -0.06897475436461938, 0.04317070794108046, 0.020129277434840793, 0.04485623639953481, -0.13782984030433243, 0.04528973801800339, 0.17407052685995317, -0.1725594174089823, 0.10543026106492054, -0.14655685796041848, 0.43395687944353656, 0.06704965945134116, 0.10916135680086843, 0.013695861675716773, -0.3100402080549638, -0.051577363174336116, 0.11002732275480999, -0.018977875244733603, 0.031418527528298074, -0.10611657955725273, -0.3907211446796236, -0.3968222337953397, 0.028433067444849493, 0.284569254467249, 0.36509298692063535, -0.07834110874940518, 0.04100620793233713, -0.10458075696262054, 0.027718922948841835, 0.0915767840936177]\n",
      "[0.037933776545071705, -0.037933776545071705, -0.27637114328432105, 0.27637114328432105, 0.23970660533597085, 0.028623052558015828, -0.02862305255859232, -0.1403771022052074, 0.1403771022059963, -0.13457887361337018, 0.13457887361360868, -0.017673975426403265, 0.17298297616351554, -0.1010396769885656, 0.18737985757334724, -0.2280227322155696, 0.02460383196677438, 0.06148619395386828, 0.10006409831836899, 0.15205703327313297, -0.0898819631684546, 0.12992073145568864, -0.23434267085101337, 0.04439876331088488, 0.3155328300117487, 0.10007159950074973, -0.2985456619825648, 0.06831822750569351, 0.08205830366634063, -0.17513180215269972, 0.04964659162279869, -0.06897475436461938, 0.04317070794108046, 0.020129277434840793, 0.04485623639953481, -0.13782984030433243, 0.04528973801800339, 0.17407052685995317, -0.1725594174089823, 0.10543026106492054, -0.14655685796041848, 0.43395687944353656, 0.06704965945134116, 0.10916135680086843, 0.013695861675716773, -0.3100402080549638, -0.051577363174336116, 0.11002732275480999, -0.018977875244733603, 0.031418527528298074, -0.10611657955725273, -0.3907211446796236, -0.3968222337953397, 0.028433067444849493, 0.284569254467249, 0.36509298692063535, -0.07834110874940518, 0.04100620793233713, -0.10458075696262054, 0.027718922948841835, 0.0915767840936177, 0.0102057574422204]\n",
      "[0.037933776545071705, -0.037933776545071705, -0.27637114328432105, 0.27637114328432105, 0.23970660533597085, 0.028623052558015828, -0.02862305255859232, -0.1403771022052074, 0.1403771022059963, -0.13457887361337018, 0.13457887361360868, -0.017673975426403265, 0.17298297616351554, -0.1010396769885656, 0.18737985757334724, -0.2280227322155696, 0.02460383196677438, 0.06148619395386828, 0.10006409831836899, 0.15205703327313297, -0.0898819631684546, 0.12992073145568864, -0.23434267085101337, 0.04439876331088488, 0.3155328300117487, 0.10007159950074973, -0.2985456619825648, 0.06831822750569351, 0.08205830366634063, -0.17513180215269972, 0.04964659162279869, -0.06897475436461938, 0.04317070794108046, 0.020129277434840793, 0.04485623639953481, -0.13782984030433243, 0.04528973801800339, 0.17407052685995317, -0.1725594174089823, 0.10543026106492054, -0.14655685796041848, 0.43395687944353656, 0.06704965945134116, 0.10916135680086843, 0.013695861675716773, -0.3100402080549638, -0.051577363174336116, 0.11002732275480999, -0.018977875244733603, 0.031418527528298074, -0.10611657955725273, -0.3907211446796236, -0.3968222337953397, 0.028433067444849493, 0.284569254467249, 0.36509298692063535, -0.07834110874940518, 0.04100620793233713, -0.10458075696262054, 0.027718922948841835, 0.0915767840936177, 0.0102057574422204, -0.40372468854573207]\n",
      "Number of coefficients between -1 and 1:  63\n"
     ]
    }
   ],
   "source": [
    "near_zero_coeff = []\n",
    "for i in range(len(reg_full.coef_[0])):\n",
    "    if reg_full.coef_[0,i] < 1 and reg_full.coef_[0,i] > -1:\n",
    "        near_zero_coeff.append(reg_full.coef_[0,i])\n",
    "        print(near_zero_coeff)\n",
    "print(\"Number of coefficients between -1 and 1: \", len(near_zero_coeff))"
   ]
  },
  {
   "cell_type": "code",
   "execution_count": 66,
   "metadata": {},
   "outputs": [
    {
     "name": "stdout",
     "output_type": "stream",
     "text": [
      "Accuracy for training dataset: 0.775\n",
      "Accuracy for test dataset: 0.6345381526104418\n"
     ]
    }
   ],
   "source": [
    "# prediction on training data\n",
    "Y_training_prediction_LR = reg_full.predict(X_training)\n",
    "\n",
    "# compute accuracy as suggested above using metrics.accuracy_score from scikit-learn for training dataset\n",
    "\n",
    "print(\"Accuracy for training dataset:\", metrics.accuracy_score(Y_training, Y_training_prediction_LR))\n",
    "\n",
    "# prediction on test data\n",
    "Y_test_prediction_LR = reg_full.predict(X_test)\n",
    "\n",
    "# compute accuracy as suggested above using metrics.accuracy_score from scikit-learn for test dataset\n",
    "\n",
    "print(\"Accuracy for test dataset:\", metrics.accuracy_score(Y_test, Y_test_prediction_LR))"
   ]
  },
  {
   "cell_type": "code",
   "execution_count": 67,
   "metadata": {},
   "outputs": [
    {
     "name": "stdout",
     "output_type": "stream",
     "text": [
      "Values of parameter C tried in 10-fold Cross-Validation: [1.00000000e-04 7.74263683e-04 5.99484250e-03 4.64158883e-02\n",
      " 3.59381366e-01 2.78255940e+00 2.15443469e+01 1.66810054e+02\n",
      " 1.29154967e+03 1.00000000e+04]\n",
      "Accuracies obtained for the different values of C with 10-fold Cross-Validation: 0.7475\n",
      "Best value of C: [0.00599484]\n",
      "[[0.56097561 0.56097561 0.75609756 0.7804878  0.75609756 0.75609756\n",
      "  0.73170732 0.73170732 0.73170732 0.73170732]\n",
      " [0.56097561 0.6097561  0.6097561  0.56097561 0.48780488 0.46341463\n",
      "  0.46341463 0.46341463 0.46341463 0.46341463]\n",
      " [0.56097561 0.58536585 0.65853659 0.70731707 0.68292683 0.65853659\n",
      "  0.65853659 0.65853659 0.65853659 0.65853659]\n",
      " [0.56097561 0.6097561  0.68292683 0.63414634 0.58536585 0.58536585\n",
      "  0.58536585 0.58536585 0.58536585 0.58536585]\n",
      " [0.56097561 0.58536585 0.75609756 0.75609756 0.73170732 0.73170732\n",
      "  0.73170732 0.73170732 0.73170732 0.73170732]\n",
      " [0.56410256 0.58974359 0.74358974 0.71794872 0.74358974 0.74358974\n",
      "  0.74358974 0.74358974 0.74358974 0.74358974]\n",
      " [0.56410256 0.58974359 0.61538462 0.69230769 0.66666667 0.69230769\n",
      "  0.69230769 0.69230769 0.69230769 0.69230769]\n",
      " [0.56410256 0.58974359 0.79487179 0.79487179 0.74358974 0.74358974\n",
      "  0.74358974 0.74358974 0.74358974 0.74358974]\n",
      " [0.56410256 0.58974359 0.64102564 0.53846154 0.56410256 0.56410256\n",
      "  0.56410256 0.56410256 0.56410256 0.56410256]\n",
      " [0.56410256 0.58974359 0.69230769 0.66666667 0.69230769 0.69230769\n",
      "  0.69230769 0.69230769 0.69230769 0.69230769]]\n",
      "10-fold Cross-Validation accuracies obtained with the best value of parameter C: 0.7948717948717948\n"
     ]
    },
    {
     "data": {
      "text/plain": [
       "LogisticRegressionCV(Cs=array([0.00599484]), class_weight=None, cv=10,\n",
       "                     dual=False, fit_intercept=True, intercept_scaling=1.0,\n",
       "                     l1_ratios=None, max_iter=100, multi_class='warn',\n",
       "                     n_jobs=None, penalty='l2', random_state=None, refit=True,\n",
       "                     scoring=None, solver='newton-cg', tol=0.0001, verbose=0)"
      ]
     },
     "execution_count": 67,
     "metadata": {},
     "output_type": "execute_result"
    }
   ],
   "source": [
    "#define the model using LogisticRegressionCV passing an appropriate solver, cv value, and choice of penalty\n",
    "regL2 = linear_model.LogisticRegressionCV(solver='newton-cg',cv=10, penalty='l2')\n",
    "\n",
    "#fit the model on training data\n",
    "\n",
    "regL2.fit(X_training, Y_training)\n",
    "\n",
    "# the attribute 'Cs_' contains ALL the values of C evaluated in cross-validation;\n",
    "# let's print them\n",
    "print(\"Values of parameter C tried in 10-fold Cross-Validation: {}\".format( regL2.Cs_ ))\n",
    "\n",
    "# the attribute 'scores_' contains the accuracy obtained in each fold, for each value \n",
    "# of C tried; we now compute the average accuracy across the 10 folds\n",
    "\n",
    "CV_prediction = regL2.predict(X_training)\n",
    "\n",
    "CV_accuracies = metrics.accuracy_score(Y_training, CV_prediction)\n",
    "\n",
    "# let's print the average accuracies obtained for the various values of C\n",
    "\n",
    "print(\"Accuracies obtained for the different values of C with 10-fold Cross-Validation: {}\".format( CV_accuracies ))\n",
    "\n",
    "# the attribute 'C_' contains the best value of C as identified by cross-validation;\n",
    "# let's print it\n",
    "\n",
    "print(\"Best value of C: {}\".format( regL2.C_ ))\n",
    "\n",
    "# let's store the best CV accuracy, and then print it\n",
    "print(regL2.scores_[1])\n",
    "regL2_best_CV_accuracy = np.max(regL2.scores_[1])\n",
    "print(\"10-fold Cross-Validation accuracies obtained with the best value of parameter C: {}\".format( regL2_best_CV_accuracy ))\n",
    "\n",
    "#define the model using the best C and an appropriate solver\n",
    "\n",
    "regL2_best = linear_model.LogisticRegressionCV(Cs=regL2.C_, solver='newton-cg',cv=10, penalty='l2')\n",
    "\n",
    "#fit the model using the best C on the entire training set\n",
    "\n",
    "regL2_best.fit(X_training, Y_training)"
   ]
  },
  {
   "cell_type": "code",
   "execution_count": 68,
   "metadata": {},
   "outputs": [
    {
     "name": "stdout",
     "output_type": "stream",
     "text": [
      "Coefficients obtained using the entire training set without regularization: [[ 0.03793378 -0.03793378 -0.27637114  0.27637114  0.23970661  0.02862305\n",
      "  -0.02862305 -0.1403771   0.1403771  -0.13457887  0.13457887 -0.01767398\n",
      "   0.17298298 -0.10103968  0.18737986 -0.22802273 -1.35823587  0.02460383\n",
      "   0.06148619  0.1000641   0.15205703 -0.08988196  0.12992073 -0.23434267\n",
      "   0.04439876  0.31553283  0.1000716  -0.29854566  0.06831823  0.0820583\n",
      "  -0.1751318   0.04964659 -0.06897475  0.04317071  0.02012928  0.04485624\n",
      "  -0.13782984  0.04528974  0.17407053 -0.17255942  0.10543026 -0.14655686\n",
      "   0.43395688  0.06704966  0.10916136  0.01369586 -0.31004021 -0.05157736\n",
      "   0.11002732 -0.01897788  0.03141853 -0.10611658 -0.39072114 -0.39682223\n",
      "   0.02843307  0.28456925  0.36509299 -0.07834111  0.04100621 -0.10458076\n",
      "   0.02771892  0.09157678  0.01020576 -0.40372469]]\n",
      "Coefficients obtained using the entire training set with regularization: [[-0.00311754  0.00311754 -0.13248272  0.13248272  0.08854747  0.00331037\n",
      "  -0.00331037 -0.04627941  0.04627941 -0.05588841  0.05588841 -0.00613819\n",
      "   0.01920133 -0.04820673  0.05747982 -0.02062846 -0.09296312  0.01002816\n",
      "  -0.0102438   0.02103897  0.00377505 -0.00808828  0.0208535  -0.04307616\n",
      "   0.02809867  0.02378713  0.00945926 -0.06848412  0.00648477  0.03904018\n",
      "  -0.04538114  0.00647417 -0.03298413  0.05077197 -0.00140486  0.0215104\n",
      "  -0.03397046 -0.00013762  0.08538196 -0.06412995  0.0141512  -0.05791535\n",
      "   0.0758299   0.01167084  0.03503756  0.01143042 -0.07717115 -0.03169407\n",
      "   0.00201568 -0.03428324  0.04084049  0.01886782 -0.09675789 -0.13172135\n",
      "   0.00884452  0.0854388   0.10886448 -0.03300714  0.01243546 -0.03166721\n",
      "  -0.00252638  0.0426799   0.03966415 -0.11870645]]\n",
      "Intercept: [-0.25007383]\n"
     ]
    },
    {
     "data": {
      "image/png": "[encoded data removed]",
      "text/plain": [
       "<Figure size 432x288 with 1 Axes>"
      ]
     },
     "metadata": {
      "needs_background": "light"
     },
     "output_type": "display_data"
    }
   ],
   "source": [
    "#print the coefficients from logistic regression\n",
    "\n",
    "print(\"Coefficients obtained using the entire training set without regularization: {}\".format( reg_full.coef_ ))\n",
    "\n",
    "#print the coefficients from L2 regularized logistic regression\n",
    "\n",
    "print(\"Coefficients obtained using the entire training set with regularization: {}\".format( regL2_best.coef_ ))\n",
    "\n",
    "\n",
    "# note that the intercept is not in coef_, it is in intercept_\n",
    "\n",
    "print(\"Intercept: {}\".format( regL2_best.intercept_ ))\n",
    "\n",
    "# Plot the coefficients\n",
    "regL2_best_coef = regL2_best.coef_.reshape(regL2_best.coef_.shape[1],)\n",
    "ind = np.arange(1,len(reg_coef)+1)  # the x locations for the groups\n",
    "width = 0.35       # the width of the bars\n",
    "fig, ax = plt.subplots()\n",
    "\n",
    "rects1 = ax.bar(ind, reg_coef, width, color='r')\n",
    "rects2 = ax.bar(ind + width, regL2_best_coef, width, color='g')\n",
    "ax.legend((rects1[0], rects2[0]), ('Log Regr', 'Log Regr + L2 Regul'))\n",
    "plt.xlabel('Coefficient Idx')\n",
    "plt.ylabel('Coefficient Value')\n",
    "plt.title('Logistic Regression Coefficients: Standard and Regularized Version')\n",
    "plt.show()"
   ]
  },
  {
   "cell_type": "code",
   "execution_count": 69,
   "metadata": {
    "scrolled": true
   },
   "outputs": [
    {
     "name": "stdout",
     "output_type": "stream",
     "text": [
      "Training Accuracy: 0.7475\n",
      "Test Accuracy: 0.6626506024096386\n",
      "Accuracy for training dataset: 0.775\n",
      "Accuracy for test dataset: 0.6345381526104418\n"
     ]
    }
   ],
   "source": [
    "#now get training and test error and print training and test accuracy\n",
    "\n",
    "# predictions on training data \n",
    "Y_training_prediction_LR_L2 = regL2_best.predict(X_training)\n",
    "\n",
    "# predictions on test data \n",
    "Y_test_prediction_LR_L2 = regL2_best.predict(X_test)\n",
    "\n",
    "# compute accuracy as suggested above using metrics.accuracy_score from scikit-learn on training data\n",
    "print(\"Training Accuracy:\", metrics.accuracy_score(Y_training, Y_training_prediction_LR_L2))\n",
    "\n",
    "# compute accuracy as suggested above using metrics.accuracy_score from scikit-learn on test data\n",
    "print(\"Test Accuracy:\", metrics.accuracy_score(Y_test, Y_test_prediction_LR_L2))\n",
    "\n",
    "\n",
    "\n",
    "# compute accuracy as suggested above using metrics.accuracy_score from scikit-learn for training dataset\n",
    "\n",
    "print(\"Accuracy for training dataset:\", metrics.accuracy_score(Y_training, Y_training_prediction_LR))\n",
    "\n",
    "# compute accuracy as suggested above using metrics.accuracy_score from scikit-learn for test dataset\n",
    "\n",
    "print(\"Accuracy for test dataset:\", metrics.accuracy_score(Y_test, Y_test_prediction_LR))"
   ]
  },
  {
   "cell_type": "markdown",
   "metadata": {
    "collapsed": true
   },
   "source": [
    "### TO DO 10: Discuss all the questions above for the larger set (max 7 lines). Compare the impact of regularization in this case with the results you obtained for the smaller set.\n",
    "\n",
    "### Answer to the question\n",
    "With a larger set the accuracy on training with L2 regularization is still lower than the one without regularization, but the test accuracy is higher with regularization. Beside that, in this case both logistic regression with and without cross validation show values really close to zero. Even in this case the logistic regression with L2 regularization shows values in general closer to zero than the logistic regression without regularization."
   ]
  }
 ],
 "metadata": {
  "anaconda-cloud": {},
  "kernelspec": {
   "display_name": "Python 3",
   "language": "python",
   "name": "python3"
  },
  "language_info": {
   "codemirror_mode": {
    "name": "ipython",
    "version": 3
   },
   "file_extension": ".py",
   "mimetype": "text/x-python",
   "name": "python",
   "nbconvert_exporter": "python",
   "pygments_lexer": "ipython3",
   "version": "3.7.3"
  }
 },
 "nbformat": 4,
 "nbformat_minor": 1
}
